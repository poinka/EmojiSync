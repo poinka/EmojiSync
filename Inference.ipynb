{
 "cells": [
  {
   "cell_type": "markdown",
   "id": "e2f9225f",
   "metadata": {},
   "source": [
    "# Inference\n",
    "Here we will demonstrate the inference pipeline.\n",
    "\n",
    "Main steps:\n",
    "1. Create embedding for input\n",
    "2. Search for relevant texts in database using similarity search algotrithm\n",
    "3. Show most relevant items"
   ]
  },
  {
   "cell_type": "markdown",
   "id": "c7e5a56b",
   "metadata": {},
   "source": []
  }
 ],
 "metadata": {
  "language_info": {
   "name": "python"
  }
 },
 "nbformat": 4,
 "nbformat_minor": 5
}
