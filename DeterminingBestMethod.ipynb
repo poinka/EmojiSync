{
  "nbformat": 4,
  "nbformat_minor": 0,
  "metadata": {
    "colab": {
      "provenance": []
    },
    "kernelspec": {
      "name": "python3",
      "display_name": "Python 3"
    },
    "language_info": {
      "name": "python"
    }
  },
  "cells": [
    {
      "cell_type": "markdown",
      "source": [
        "# Iteration 2 vs Iteration 4\n",
        "In this section, we will determine which of the iterations will cope with the search for suitable quotes best.\n",
        "Considering that in the first Iteration we did not take emoji into account at all, we will not include this Iteration in the comparison\n",
        "Regarding Iteration 3, its indicators are too low due to the impossibility of training. Therefore, although the third Iteration takes emoji into account when forming embeddings, we will consider it an automatic loser in this competition"
      ],
      "metadata": {
        "id": "BmY5dhHElzj4"
      }
    },
    {
      "cell_type": "code",
      "execution_count": null,
      "metadata": {
        "id": "sjiTqHMij9En"
      },
      "outputs": [],
      "source": [
        "!pip install emoji\n",
        "!pip install faiss-cpu\n"
      ]
    },
    {
      "cell_type": "code",
      "source": [
        "import pandas as pd\n",
        "import numpy as np\n",
        "import emoji\n",
        "import os\n",
        "from transformers import AutoTokenizer, AutoModelForSequenceClassification\n",
        "import faiss\n",
        "from tabulate import tabulate\n",
        "import torch"
      ],
      "metadata": {
        "id": "xPxBXjBOrUHx"
      },
      "execution_count": 3,
      "outputs": []
    },
    {
      "cell_type": "markdown",
      "source": [
        "## 1. Prepare csv files"
      ],
      "metadata": {
        "id": "YfaynF75rd6t"
      }
    },
    {
      "cell_type": "code",
      "source": [
        "all_dfs = []\n",
        "for file_name in os.listdir(\"archive\"):\n",
        "    if file_name.endswith('.csv'):\n",
        "        file_path = os.path.join(\"archive\", file_name)\n",
        "        try:\n",
        "            # Read CSV with appropriate encoding\n",
        "            df = pd.read_csv(file_path)\n",
        "            all_dfs.append(df)\n",
        "            print(f\"Loaded {file_name} with {len(df)} rows\")\n",
        "        except Exception as e:\n",
        "            print(f\"Error loading {file_name}: {e}\")\n",
        "\n",
        "combined_df = pd.concat(all_dfs, ignore_index=True)\n",
        "print(f\"Combined dataset size: {len(combined_df)} rows\")\n",
        "print()\n",
        "combined_df.head()\n",
        "combined_df.to_csv(\"combined_dataset.csv\", index=False)\n"
      ],
      "metadata": {
        "colab": {
          "base_uri": "https://localhost:8080/"
        },
        "id": "qrL3v1GRrZQH",
        "outputId": "4c177a32-d331-419a-8f2f-74a045b79d72"
      },
      "execution_count": 4,
      "outputs": [
        {
          "output_type": "stream",
          "name": "stdout",
          "text": [
            "Loaded rabbit.csv with 20000 rows\n",
            "Loaded thinking_face.csv with 20000 rows\n",
            "Loaded hot_face.csv with 20000 rows\n",
            "Loaded smiling_face_with_heart-eyes.csv with 20000 rows\n",
            "Loaded fire.csv with 20000 rows\n",
            "Loaded folded_hands.csv with 20000 rows\n",
            "Loaded fearful_face.csv with 20000 rows\n",
            "Loaded rolling_on_the_floor_laughing.csv with 20000 rows\n",
            "Loaded saluting_face.csv with 20000 rows\n",
            "Loaded white_heart.csv with 20000 rows\n",
            "Loaded grinning_face_with_sweat.csv with 20000 rows\n",
            "Loaded thumbs_up.csv with 20000 rows\n",
            "Loaded cooking.csv with 20000 rows\n",
            "Loaded face_with_steam_from_nose.csv with 20000 rows\n",
            "Loaded rabbit_face.csv with 20000 rows\n",
            "Loaded sparkles.csv with 20000 rows\n",
            "Loaded smiling_face_with_halo.csv with 20000 rows\n",
            "Loaded ghost.csv with 20000 rows\n",
            "Loaded hatching_chick.csv with 20000 rows\n",
            "Error loading backhand_index_pointing_right.csv: Error tokenizing data. C error: Buffer overflow caught - possible malformed input file.\n",
            "\n",
            "Error loading red_heart.csv: Error tokenizing data. C error: Buffer overflow caught - possible malformed input file.\n",
            "\n",
            "Loaded partying_face.csv with 20001 rows\n",
            "Loaded smiling_face_with_sunglasses.csv with 20000 rows\n",
            "Loaded egg.csv with 20001 rows\n",
            "Loaded middle_finger.csv with 20000 rows\n",
            "Loaded clown_face.csv with 20000 rows\n",
            "Loaded melting_face.csv with 20000 rows\n",
            "Loaded smiling_face.csv with 20000 rows\n",
            "Loaded pile_of_poo.csv with 20000 rows\n",
            "Loaded sun.csv with 20000 rows\n",
            "Loaded check_mark_button.csv with 20000 rows\n",
            "Loaded smiling_face_with_hearts.csv with 20000 rows\n",
            "Loaded eyes.csv with 20000 rows\n",
            "Loaded face_with_tears_of_joy.csv with 20000 rows\n",
            "Loaded enraged_face.csv with 20000 rows\n",
            "Loaded loudly_crying_face.csv with 20000 rows\n",
            "Loaded face_holding_back_tears.csv with 20000 rows\n",
            "Loaded party_popper.csv with 20000 rows\n",
            "Loaded face_savoring_food.csv with 20000 rows\n",
            "Loaded skull.csv with 20000 rows\n",
            "Loaded smiling_face_with_tear.csv with 20000 rows\n",
            "Loaded winking_face.csv with 20000 rows\n",
            "Loaded check_mark.csv with 20000 rows\n",
            "Combined dataset size: 820002 rows\n",
            "\n"
          ]
        }
      ]
    },
    {
      "cell_type": "markdown",
      "source": [
        "## 2. Load dataset and filter rows with emojis"
      ],
      "metadata": {
        "id": "FWDQB-4brlO_"
      }
    },
    {
      "cell_type": "code",
      "source": [
        "df = pd.read_csv('combined_dataset.csv')\n",
        "df['has_emoji'] = df['Text'].apply(lambda x: bool(emoji.emoji_count(str(x))))\n",
        "emoji_rich_df = df[df['has_emoji']].copy()\n",
        "\n",
        "# Select 100 random records\n",
        "df_subset = emoji_rich_df.sample(n=100, random_state=100).reset_index(drop=True)\n"
      ],
      "metadata": {
        "id": "maKQjTm1rlgx"
      },
      "execution_count": 5,
      "outputs": []
    },
    {
      "cell_type": "markdown",
      "source": [
        "## 3. Create embeddings of the text with emoji description"
      ],
      "metadata": {
        "id": "eq37Fi9GsAiP"
      }
    },
    {
      "cell_type": "code",
      "source": [
        "# Convert Emoji to Text Description\n",
        "def demojize_text(text):\n",
        "    text = emoji.demojize(str(text), language='en')  # 😢 → \":crying_face:\"\n",
        "    text = text.replace(\":\", \"\").replace(\"_\", \" \")\n",
        "    return text\n"
      ],
      "metadata": {
        "id": "n0Km9vy-r1rE"
      },
      "execution_count": 22,
      "outputs": []
    },
    {
      "cell_type": "code",
      "source": [
        "tokenizer = AutoTokenizer.from_pretrained(\"SamLowe/roberta-base-go_emotions\")\n",
        "model = AutoModelForSequenceClassification.from_pretrained(\"SamLowe/roberta-base-go_emotions\")\n",
        "\n",
        "def get_embedding(text, tokenizer, model, device='cpu'):\n",
        "    inputs = tokenizer(text, return_tensors=\"pt\", padding=True, truncation=True, max_length=512)\n",
        "    inputs = {key: val.to(device) for key, val in inputs.items()}\n",
        "\n",
        "    with torch.no_grad():\n",
        "        outputs = model(**inputs, output_hidden_states=True)\n",
        "\n",
        "    hidden_states = outputs.hidden_states[-1]\n",
        "    cls_embedding = hidden_states[:, 0, :].squeeze().cpu().numpy()\n",
        "    return cls_embedding.astype(np.float32)\n"
      ],
      "metadata": {
        "id": "cUzoBwVAr8kF"
      },
      "execution_count": null,
      "outputs": []
    },
    {
      "cell_type": "markdown",
      "source": [
        "4. Create Faiss index"
      ],
      "metadata": {
        "id": "13_UZLy4sP0h"
      }
    },
    {
      "cell_type": "code",
      "source": [
        "quotes_df = pd.read_csv('selected_quotes_embeddings.csv')\n",
        "\n",
        "def parse_embedding(emb):\n",
        "    try:\n",
        "        if isinstance(emb, str):\n",
        "            return np.array(eval(emb), dtype=np.float32)\n",
        "        return np.array(emb, dtype=np.float32)\n",
        "    except Exception as e:\n",
        "        print(f\"Error parsing embedding: {e}\")\n",
        "        return None\n",
        "\n",
        "index = faiss.IndexFlatIP(768)\n",
        "\n",
        "for i in range(0, len(quotes_df), 10000):\n",
        "    chunk = quotes_df.iloc[i:i + 10000]\n",
        "    chunk_embeddings = [parse_embedding(emb) for emb in chunk['embeddings']]\n",
        "    chunk_embeddings = [emb for emb in chunk_embeddings if emb is not None and emb.shape == (768,)]\n",
        "    if chunk_embeddings:\n",
        "        chunk_array = np.vstack(chunk_embeddings)\n",
        "        faiss.normalize_L2(chunk_array)\n",
        "        index.add(chunk_array)\n",
        "    print(f\"Processed chunk {i // 10000 + 1}/{len(quotes_df) // 10000 + 1}\")\n",
        ""
      ],
      "metadata": {
        "colab": {
          "base_uri": "https://localhost:8080/"
        },
        "id": "etfrjGTtsO-Q",
        "outputId": "eec3d147-a421-49fc-8489-1207e4d57ab8"
      },
      "execution_count": 10,
      "outputs": [
        {
          "output_type": "stream",
          "name": "stdout",
          "text": [
            "Processed chunk 1/11\n",
            "Processed chunk 2/11\n",
            "Processed chunk 3/11\n",
            "Processed chunk 4/11\n",
            "Processed chunk 5/11\n",
            "Processed chunk 6/11\n",
            "Processed chunk 7/11\n",
            "Processed chunk 8/11\n",
            "Processed chunk 9/11\n",
            "Processed chunk 10/11\n"
          ]
        }
      ]
    },
    {
      "cell_type": "code",
      "source": [
        "def search_similar_quotes(query_embedding, k=5):\n",
        "    faiss.normalize_L2(query_embedding.reshape(1, -1))\n",
        "    distances, indices = index.search(query_embedding.reshape(1, -1), k)\n",
        "    return distances[0], indices[0]\n",
        ""
      ],
      "metadata": {
        "id": "0lNMRy2msXMw"
      },
      "execution_count": 11,
      "outputs": []
    },
    {
      "cell_type": "code",
      "source": [
        "def extract_emojis(text):\n",
        "    return ''.join(char for char in text if emoji.is_emoji(char))"
      ],
      "metadata": {
        "id": "ak354R8X1rG7"
      },
      "execution_count": 12,
      "outputs": []
    },
    {
      "cell_type": "markdown",
      "source": [
        "## 5. Comparison"
      ],
      "metadata": {
        "id": "52ZF9n6ssYB9"
      }
    },
    {
      "cell_type": "code",
      "source": [
        "results = []\n",
        "\n",
        "for idx, row in df_subset.iterrows():\n",
        "    input_text = row['Text']\n",
        "    embedding = get_embedding(input_text, tokenizer, model)\n",
        "    distances, indices = search_similar_quotes(embedding)\n",
        "    avg_similarity = np.mean(distances)\n",
        "    quotes = [quotes_df.iloc[i]['quote'] for i in indices]\n",
        "\n",
        "    demojized_text = demojize_text(input_text)\n",
        "    demojized_embedding = get_embedding(demojized_text, tokenizer, model)\n",
        "    demojized_distances, demojized_indices = search_similar_quotes(demojized_embedding)\n",
        "    demojized_avg_similarity = np.mean(demojized_distances)\n",
        "    demojized_quotes = [quotes_df.iloc[i]['quote'] for i in demojized_indices]\n",
        "\n",
        "\n",
        "    results.append({\n",
        "        'text': input_text,\n",
        "        'avg_similarity': avg_similarity,\n",
        "        'quotes': quotes,\n",
        "        'demojized_avg_similarity': demojized_avg_similarity,\n",
        "        'demojized_quotes': demojized_quotes\n",
        "    })\n",
        "\n",
        "\n",
        "results_only_emo = []\n",
        "\n",
        "for idx, row in df_subset.iterrows():\n",
        "    input_text = row['Text']\n",
        "    input_text = extract_emojis(input_text)\n",
        "    embedding = get_embedding(input_text, tokenizer, model)\n",
        "    distances, indices = search_similar_quotes(embedding)\n",
        "    avg_similarity = np.mean(distances)\n",
        "    quotes = [quotes_df.iloc[i]['quote'] for i in indices]\n",
        "\n",
        "    demojized_text = demojize_text(input_text)\n",
        "    demojized_embedding = get_embedding(demojized_text, tokenizer, model)\n",
        "    demojized_distances, demojized_indices = search_similar_quotes(demojized_embedding)\n",
        "    demojized_avg_similarity = np.mean(demojized_distances)\n",
        "    demojized_quotes = [quotes_df.iloc[i]['quote'] for i in demojized_indices]\n",
        "\n",
        "\n",
        "    results_only_emo.append({\n",
        "        'text': input_text,\n",
        "        'avg_similarity': avg_similarity,\n",
        "        'quotes': quotes,\n",
        "        'demojized_avg_similarity': demojized_avg_similarity,\n",
        "        'demojized_quotes': demojized_quotes\n",
        "    })"
      ],
      "metadata": {
        "id": "n8_i-DZqsYMe"
      },
      "execution_count": 23,
      "outputs": []
    },
    {
      "cell_type": "code",
      "source": [
        "print(\"\\n=== Detailed Results ===\")\n",
        "for idx, res in enumerate(results[10:15], 1):\n",
        "    print(f\"\\nQuery {idx}: {res['text']}\")\n",
        "    print(f\"Average Cosine Similarity (Iteration 2): {res['demojized_avg_similarity']:.4f}\")\n",
        "    print(\"Top-K Quotes:\")\n",
        "    for i, quote in enumerate(res['demojized_quotes']):\n",
        "        print(f\"{i+1}. {quote}\")\n",
        "    print(f\"Average Cosine Similarity (Iteration 4): {res['avg_similarity']:.4f}\")\n",
        "    print(\"Top-K Quotes:\")\n",
        "    for i, quote in enumerate(res['quotes']):\n",
        "        print(f\"{i+1}. {quote}\")\n",
        "\n",
        "print(\"\\n=== Detailed Results ===\")\n",
        "for idx, res in enumerate(results_only_emo[15:20], 1):\n",
        "    print(f\"\\nQuery {idx}: {res['text']}\")\n",
        "    print(f\"Average Cosine Similarity (Iteration 2): {res['demojized_avg_similarity']:.4f}\")\n",
        "    print(\"Top-K Quotes:\")\n",
        "    for i, quote in enumerate(res['demojized_quotes']):\n",
        "        print(f\"{i+1}. {quote}\")\n",
        "    print(f\"Average Cosine Similarity (Iteration 4): {res['avg_similarity']:.4f}\")\n",
        "    print(\"Top-K Quotes:\")\n",
        "    for i, quote in enumerate(res['quotes']):\n",
        "        print(f\"{i+1}. {quote}\")\n"
      ],
      "metadata": {
        "colab": {
          "base_uri": "https://localhost:8080/"
        },
        "id": "023nVuPpssK4",
        "outputId": "7e524329-32d9-49b4-a4f9-4167bbd4779e"
      },
      "execution_count": 25,
      "outputs": [
        {
          "output_type": "stream",
          "name": "stdout",
          "text": [
            "\n",
            "=== Detailed Results ===\n",
            "\n",
            "Query 1: Happy Easter beloved Souls. We Now Enlighten All of Earth with Radiant New WAVES that will further elevate your souls rise unto greater ARCHphathoms OF LIGHT. Just As a Souls LIVE♎️Mind, Rising up thru waters' PHATHOMIC CURRENTCIES, REQUIRES SUFFICIENT TIMEto Decompress Safely😇,\n",
            "Average Cosine Similarity (Iteration 2): 0.9023\n",
            "Top-K Quotes:\n",
            "1. Happy Independence Day! Let Freedom Stream!!! NetworkEtiquette.net\n",
            "2. Every New Year brings its sacred blessings.\n",
            "3. Celebrate one soul, touch one heart, light one lamp; and the whole universe moves.\n",
            "4. Welcome to Sex Media, Where Fantasy Becomes Reality!\n",
            "5. Every year on your birthday, you get a chance to start new.\n",
            "Average Cosine Similarity (Iteration 4): 0.8862\n",
            "Top-K Quotes:\n",
            "1. Every New Year brings its sacred blessings.\n",
            "2. New Year's Day. A fresh start. A new chapter in life waiting to be written. New questions to be asked, embraced, and loved. Answers to be discovered and then lived in this transformative year of delight and self-discovery. Today carve out a quiet interlude for yourself in which to dream, pen in hand. Only dreams give birth to change.\n",
            "3. Celebrate one soul, touch one heart, light one lamp; and the whole universe moves.\n",
            "4. Be the celebrators, celebrate! Already there is too much—the flowers have bloomed, the birds are singing, the sun is there in the sky—celebrate it! You are breathing and you are alive and you have consciousness, celebrate it!\n",
            "5. Every year on your birthday, you get a chance to start new.\n",
            "\n",
            "Query 2: Wooohooo, it \"only\" took me 3 months this time 🙈🙈🙈\n",
            "\n",
            "But finally, my Christmas chapter of The Right kind of Wrong: Chapter 15 - Lonely this Christmas? is online 😅\n",
            "\n",
            "https://t.co/gEXmIBNG4m\n",
            "Average Cosine Similarity (Iteration 2): 0.8623\n",
            "Top-K Quotes:\n",
            "1. Someone asked me when is my birthday?The poet inside me replied,\"My birthday is on the last day of the year,It's 31st December my dear!\n",
            "2. I went by Kyle, and I made friends on the team as Kyle. It went on for a pretty long time, until I went to a birthday party in a dress and all the hockey players were like... 'Kyle?'\n",
            "3. She remembered the way the damp, coarse sand had clumped to her legs and hands, and burrowed beneath her nails and into the folds of her clothes, and she had wondered why the British children in her storybooks were always excited about going to the beach—just as now she wondered why the light from the lighthouse seemed to be coming from the landward side of the expressway. “I thought a lighthouse is out at sea.\n",
            "4. Kevyn, Ennesby tells me you are building a time machine.Actually I'm finished.In one afternoon? Wow... Does it work?After a fashion....I put a whole lot of energy into it, and the next thing I knew it was time for dinner.-Captain Tagon & Commander Andreyasn\n",
            "5. COSMIC DANCER\"\"I was dancing when I was twelveI was dancing when I was aaahI danced myself right out the wombIs it strange to dance so soonI danced myself right out the wombI was dancing when I was eightIs it strange to dance so lateI danced myself into the tombIs it strange to dance so soonI danced myself into the tombIs it wrong to understandThe fear that dwells inside a manWhat's it like to be a loonI liken it to a balloonI danced myself out of the wombIs it strange to dance to soonI danced myself into the tombBut then again once moreI danced myself out of the wombIs it strange to dance so soonI danced myself out of the womb.\n",
            "Average Cosine Similarity (Iteration 4): 0.8221\n",
            "Top-K Quotes:\n",
            "1. I've never seen or touched anything.\"\"Can you explain then how you had children?\"\"You're right. It's true I have four kids. Four! But still I have never seen the male organ. He came into the bedroom, he turned off the light, and then Bam! Bam! Bam! and voila I was pregnant! What's more, I was granted four girls. So I have never seen penises.\n",
            "2. STRAUSS:Have you ever thought about putting those experiences into a book?RICHIE:I did decide to write about what i experienced in climbing to the top. And finally when I got there, I discovered what was at the top.You know what was there?STRAUSS: No, I don't.RICHIE: Nothing. Not one thing. What was at the top was all the experiences that you had to get there.\n",
            "3. Kevyn, Ennesby tells me you are building a time machine.Actually I'm finished.In one afternoon? Wow... Does it work?After a fashion....I put a whole lot of energy into it, and the next thing I knew it was time for dinner.-Captain Tagon & Commander Andreyasn\n",
            "4. Why do I write? Because, I am able to create wonders with a click of my keyboard. I turn my computer on, and suddenly, I’m whisked into a world full of wonder and amazement. The universe bends to my will and defies physics. But when the afternoon arrives, I must return to my duties. I leave the comfort of my home and crawl through the elementary school carpool line. When I see the brightened faces of my children, my heart flutters, and I realize I can live with a few straggling toys … as long as I can escape into the shower later.\n",
            "5. The Paco's Loco Tacos sign on my right lures me in. Not for the first time, I wonder if the tacos are crazy, if Paco is crazy, or if we are crazy for buying them. Well, I personally think a touch of crazy is one of the spices of life.\n",
            "\n",
            "Query 3: @sweetcarolinatv Johnny Cash radicalized me YOUNG. I loved when he fucked over Nixon in his own house 😅\n",
            "Average Cosine Similarity (Iteration 2): 0.9089\n",
            "Top-K Quotes:\n",
            "1. Love is the magician that pulls man out of his own hat.\n",
            "2. Love is the magician that pulls man out of his own hat.\n",
            "3. My love for Neo-Tokyo is a bulbous massof post-human organic circuitry.Cyperpunk is my mother tongue.My love is a man-machine interface gun.\n",
            "4. Try me, and you start LOVING!!\n",
            "5. The fans love the home runs, the home run competition between Mark McGwire and Sammy Sosa.\n",
            "Average Cosine Similarity (Iteration 4): 0.8999\n",
            "Top-K Quotes:\n",
            "1. My love for Neo-Tokyo is a bulbous massof post-human organic circuitry.Cyperpunk is my mother tongue.My love is a man-machine interface gun.\n",
            "2. I love it when people yell at me about the environment and then I tell 'em I'm burning 90% cleaner than them.\n",
            "3. The way I see it, love is an amusement park, and food its souvenir.\n",
            "4. Loving you was hard, wanting you was harder, but kissing your forehead was insanity.\n",
            "5. Love is the magician that pulls man out of his own hat.\n",
            "\n",
            "Query 4: Madonna in Veil was Collected by my brother 👉🏻 @EMEDobleNFT I'm honored and happy that this piece stays with you! 🖤💯\n",
            "\n",
            "Massive thanks for your incondicional support 🔥🤘🏻💀🤘🏻 https://t.co/vnCi92d9La\n",
            "Average Cosine Similarity (Iteration 2): 0.9008\n",
            "Top-K Quotes:\n",
            "1. A thankful heartis the key to overflowing joy.\n",
            "2. I am grateful in life and online. My gratitude raises my vibration and enhances my joy.\n",
            "3. The single greatest cause of happiness is gratitude.\n",
            "4. Thank people who help you because they make you happy. Thank people who don't help you because they make you strong.\n",
            "5. Whatever belief we have actually stems from the thankfulness that we feel and this feeling further attracts more happy feelings towards us.\n",
            "Average Cosine Similarity (Iteration 4): 0.9048\n",
            "Top-K Quotes:\n",
            "1. I thank the goodness and the grace Which on my birth have smiled  And made me  in these Christian days  A happy Christian child.\n",
            "2. Say thank you for a beautiful life and be grateful for the small things of life which are miracles we have actually got used to. Gratitude banishes negativity from your life, brings happiness and you start living in abundance and attract more love and prosperity because of the way you think about your life.\n",
            "3. I am grateful in life and online. My gratitude raises my vibration and enhances my joy.\n",
            "4. Whatever belief we have actually stems from the thankfulness that we feel and this feeling further attracts more happy feelings towards us.\n",
            "5. The single greatest cause of happiness is gratitude.\n",
            "\n",
            "Query 5: NEW WEAPONS! 🔫\n",
            "\n",
            "- Name: G36 🔖\n",
            "- Price: $375K 💰\n",
            "- Location: Gun Shop 🏬\n",
            "- Body Damage: 12 💥\n",
            "- Headshot Damage: 16 🎯\n",
            "- Magazine Size: 40 😈\n",
            "- Fire Rate: Medium 😎\n",
            "\n",
            "- Egg Launcher Return! 🥚\n",
            "- Location: Behind Y On Mad City Sign! 🪧\n",
            "- Damage: 30 😮\n",
            "- Magazine Size: 9 💣 https://t.co/2qcpRSuPYH\n",
            "Average Cosine Similarity (Iteration 2): 0.9651\n",
            "Top-K Quotes:\n",
            "1. Library: The Temple of the Wise!\n",
            "2. thnkz 4 hlpng e wth e spllng d gwammer mestr josef\n",
            "3. fiction:the oceani diveheadfirstintowhen icanno longerbreathe in re\n",
            "4. Wo-man: A male mind driving a female body!\n",
            "5. A lamb among wolves!\n",
            "Average Cosine Similarity (Iteration 4): 0.8043\n",
            "Top-K Quotes:\n",
            "1. In trials of ir'n and silver fain“The dead will rise and walk again“The blesséd few that touch the light“Will aid the war against the night.“But one by one they all will die“Without a cause to rule them by“As Darkness spreads across the land“He'll wield the oceans in his hand.“Five warriors will oppose his reign“And overthrow the Shadow Thane“They come from sides both dark and light“The realm the mortals call “twilight.”“A magus crowned with boughs of fire“Will rise like Phoenix from his pyre“A beast of shadows touched with sight“Will claim a Dark One as her knight“The next, a prophet doomed to fail“Will find her powers to avail“The final: one mere mortal man“Who bears the mark upon his hand“The circle closes round these few“Made sacred by the bonds they hew“But if one fails then so shall all“Bring death to those of Evenfall.\n",
            "2. Λαθρανθρωπία = το να συν~κατα~λέγεται λαθραῖα ἒνα ἂτομο/α, στο εἲδος των ἀνθρῶπων.~ Lathranthropia = the smuggled inclusion of a person or persons within the Human species. neology by Ale3ia\n",
            "3. The drinking dens are spilling outThere's staggering in the squareThere's lads and lasses falling aboutAnd a crackling in the airDown around the dungeon doorsThe shelters and the queuesEverybody's looking forSomebody's arms to fall intoAnd it's what it isIt's what it is nowThere's frost on the graves and the monumentsBut the taverns are warm in townPeople curse the governmentAnd shovel hot food downThe lights are out in the city hallThe castle and the keepThe moon shines down upon it allThe legless and asleepAnd it's cold on the tollgateWith the wagons creeping throughCold on the tollgateGod knows what I could do with youAnd it's what it isIt's what it is nowThe garrison sleeps in the citadelWith the ghosts and the ancient stonesHigh up on the parapetA Scottish piper stands aloneAnd high on the windThe highland drums begin to rollAnd something from the past just comesAnd stares into my soulAnd it's cold on the tollgateWith the Caledonian BluesCold on the tollgateGod knows what I could do with youAnd it's what it isIt's what it is nowWhat it isIt's what it is nowThere's a chink of light, there's a burning wickThere's a lantern in the towerWee Willie Winkie with a candlestickStill writing songs in the wee wee hoursOn Charlotte Street I takeA walking stick from my hotelThe ghost of Dirty DickIs still in search of Little NellAnd it's what it isIt's what it is nowOh what it isWhat it is now\n",
            "4. When straight-identified women have sex with women, the broader culture waits in anticipation for them to return to what is likely their natural, heterosexual state; when straight-identified men have sex with men, the culture waits in anticipation for them to admit that they are gay.\n",
            "5. One dies only if he's not anymore in the hearts and minds of those who know him. - Monkey D. Luffy\n",
            "\n",
            "=== Detailed Results ===\n",
            "\n",
            "Query 1: 😳🥵😆\n",
            "Average Cosine Similarity (Iteration 2): 0.8906\n",
            "Top-K Quotes:\n",
            "1. ... the serpent hissing between the lips of Envy is so huge, and so completely fills her wide-opened mouth that the muscles of her face are strained and contorted,...\n",
            "2. The soldier stared at Ingrid. His silence was elastic, slowly curling a rope around her neck.\n",
            "3. The tongue ever turns to the aching tooth.\n",
            "4. Brush snapped. The stag shambled forth from the outer darkness. It loomed above Scobie, its fur rank and steaming. Black blood oozed from gashes along its flanks. Beneath a great jagged crown of antlers its eyes were black, its teeth yellow and broken. Scobie fell to his knees, palms raised in supplication. The stag nuzzled his matted hair and its long tongue lapped at the muddy tears and the streaks of drying blood upon the man’s upturned face. Its muzzle unhinged. The teeth closed and there was a sound like a ripe cabbage cracking apart.\n",
            "5. she's gotoceanstucked awayin her hairpoems swimunder her skin.\n",
            "Average Cosine Similarity (Iteration 4): 0.5723\n",
            "Top-K Quotes:\n",
            "1. Although love is often depicted as starry-eyed and sweet, love for the self is made of tougher stuff.\n",
            "2. Belief & Trust should be deep from mind & heart. Love is just emotional...without Belief & Trust, love is like an empty bottle. Only the outer layer will be present, the inside will be ALWAYS hollow..\n",
            "3. I mean that repeated offences, even when they secure forgiveness, drive out love. And from that I came to say that one may compel obedience but never love.\n",
            "4. Love cannot exist without giving, however giving can exist without love.\n",
            "5. I can live without money, but I cannot live without love.\n",
            "\n",
            "Query 2: 👍😚\n",
            "Average Cosine Similarity (Iteration 2): 0.9157\n",
            "Top-K Quotes:\n",
            "1. He pokes a finger inside me as he plays with my wetness.” —Sofia Herrera (French Kiss, Unbearable Passion, #2)\n",
            "2. She blows kisses to the one who danced through her dreams and leaves a trail of moon dust on her heart...\n",
            "3. He kissed it better,” she told them.\n",
            "4. Love is God's shadow as He strolls through the universe.\n",
            "5. Kiss me like you want to live.—Lachlain.\n",
            "Average Cosine Similarity (Iteration 4): 0.6038\n",
            "Top-K Quotes:\n",
            "1. To become an Asetian is to die and be reborn. To forget all you have learned and learn all you have forgotten. ☥\n",
            "2. Whoever has the luck to be born a character can laugh even at death. Because a character will never die! A man will die, a writer, the instrument of creation: but what he has created will never die!\n",
            "3. Make it dark, make it grim, make it tough, but then, for the love of God, tell a joke.\n",
            "4. Believe it or not, philosophy has consequences.\n",
            "5. If I were given a choice between two films and one was dark and explored depraved, troubled or sick aspects of our culture, I would always opt for that over the next romantic comedy.\n",
            "\n",
            "Query 3: 🐣\n",
            "Average Cosine Similarity (Iteration 2): 0.9698\n",
            "Top-K Quotes:\n",
            "1. Black hawk down.Black eagle up.\n",
            "2. Library: The Temple of the Wise!\n",
            "3. A lamb among wolves!\n",
            "4. fiction:the oceani diveheadfirstintowhen icanno longerbreathe in re\n",
            "5. Cosmos and its stars\n",
            "Average Cosine Similarity (Iteration 4): 0.8352\n",
            "Top-K Quotes:\n",
            "1. ...един добър мъж е толкова силен, колкото е нужно на подходящата за него жена.\n",
            "2. Cruelty links all three primitives [pleasure, pain, and desire]: Spinoza defines it as the desire to inflict pain on someone we love or pity. Financial speaking, cruelty is analogous to a convertible bond whose debt and equity depend on three economic underliers: the stock price, the level of interest rates, and the credit worthiness of the company's debt.\n",
            "3. Love is the answer.\n",
            "4. You and I both know that love is for children,'' he said. ''We're adults. Compatibility is for adults.''''Compatibility is for my Bluetooth and my car,'' Teresa replied. ''Only they get along just fine, and my car never makes my bluetooth feel like shit.\n",
            "5. «Δεν έχω μάθει να μιλάω με λέξεις. Αν έχω κάτι να σου πω, θα σου το πω με τα μάτια. Γι’ αυτό εκεί να με κοιτάς. Διαφορετικά, δεν θα με ακούσεις ποτέ...»\n",
            "\n",
            "Query 4: 😍\n",
            "Average Cosine Similarity (Iteration 2): 0.8817\n",
            "Top-K Quotes:\n",
            "1. She looked at him, his black, depthless eyes like boiling wells of oil.\n",
            "2. My father looks at me the way he is looking at my mother in one of their wedding pictures: like he can't believe that she is with him now and will be with him forever, that she has chosen to be with him out of all the men in the known world.\n",
            "3. In their eyes, Eve saw the wolf gleam. The story was the prey, ratings the trophy.\n",
            "4. See him now, so boyish a body and an older head.” (Bhutta)\n",
            "5. Then holding the star aloft and the bright sword advanced, Frodo, hobbit of the Shire, walked steadily down to meet the eyes.\n",
            "Average Cosine Similarity (Iteration 4): 0.6311\n",
            "Top-K Quotes:\n",
            "1. Make it dark, make it grim, make it tough, but then, for the love of God, tell a joke.\n",
            "2. Love and war. Same coin. Different sides. I'm too wrinkled for either.\"\"Maybe war will breathe some life into your old bones.\"\"Well, I tried love last month.\" He leans close. \"Didn't work like it used to.\"\"Too honest, Lorn.\" I can't help but laugh.\n",
            "3. Belief & Trust should be deep from mind & heart. Love is just emotional...without Belief & Trust, love is like an empty bottle. Only the outer layer will be present, the inside will be ALWAYS hollow..\n",
            "4. Everything changes except the love.\n",
            "5. A friend of mine once defined love as finding someone you can talk to late into the night\n",
            "\n",
            "Query 5: 🥳🥳🥳🥳🥳\n",
            "Average Cosine Similarity (Iteration 2): 0.9855\n",
            "Top-K Quotes:\n",
            "1. Booty Butt, Booty Butt, Booty Butt Cheeks\n",
            "2. wesat theresmokingcigarettesat5in the morning.\n",
            "3. Cosmos and its stars\n",
            "4. And turnips - endless ruptured turnips.\n",
            "5. thnkz 4 hlpng e wth e spllng d gwammer mestr josef\n",
            "Average Cosine Similarity (Iteration 4): 0.7005\n",
            "Top-K Quotes:\n",
            "1. Вера в себя способна творить такие же чудеса, как вера в Господа Бога.\n",
            "2. Як умру, то поховайте Мене на могилі, Серед степу широкого, На Вкраїні милій, Щоб лани широкополі, І Дніпро, і кручі Було видно, було чути, Як реве ревучий. Як понесе з України У синєє море Кров ворожу... отойді я І лани, і гори — Все покину і полину До самого бога Молитися... а до того Я не знаю бога.\n",
            "3. Фанатиците винаги имат един такъв раздърпан, опулен вид. Приличат на хора, които не мастурбират, но непрекъснато мислят за това.\n",
            "4. Ако съдбата не те разсмива, ти просто не схващаш шегата.\n",
            "5. Со своей стороны, я предпочитаю онтологическое доказательство [существования Бога], космологическое доказательство и остальной старый запас аргументов той сентиментальной нелогичности, которая берет начало от Руссо. Старые доказательства были по крайней мере честными; если они правильные, то они доказывали свою точку зрения, если они неправильные, то для любой критики доступно доказать это. Но новая теология сердца отказывается от доказательства; она не может быть отвергнута, потому что она не претендует на доказательство своей точки зрения. В конечном счете единственным основанием для ее принятия оказывается то, что она позволяет нам предаваться приятным грезам. Это не заслуживающая уважения причина, и, если бы я выбирал между Фомой Аквинским и Руссо, я выбрал бы Фому Аквинского.\n"
          ]
        }
      ]
    },
    {
      "cell_type": "markdown",
      "source": [
        "## Results Analysis: Iteration 2 vs Iteration 4\n",
        "We conducted a comparative evaluation between Iteration 2 and Iteration 4 on a diverse set of emoji-rich queries. The goal was to identify which approach more effectively captures the emotional and contextual meaning of the emoji inputs and retrieves semantically relevant quotes from the embedding database.\n",
        "\n",
        "Summary of Findings:\n",
        "* Iteration 2 consistently outperformed Iteration 4 across the majority of test cases.\n",
        "\n",
        "* It produced more emotionally aligned, contextually relevant, and coherent quote selections.\n",
        "\n",
        "* Average cosine similarities were higher for Iteration 2 in almost all cases, and the retrieved quotes better reflected the emotion or theme of the emoji input.\n",
        "\n",
        "* In contrast, Iteration 4 frequently generated off-topic or overly abstract quotes, sometimes missing the tone (e.g., joy, irony, intimacy) intended by the emoji input."
      ],
      "metadata": {
        "id": "5GjxOG5F78Ko"
      }
    }
  ]
}