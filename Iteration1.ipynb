{
 "cells": [
  {
   "cell_type": "markdown",
   "id": "a9b334cf",
   "metadata": {},
   "source": [
    "# 1st Iteration\n",
    "\n",
    "At first, let us try the simplest approach - our baseline - do not handle emojis at all (Treat them as UNK). The main purpose of this iteration is to check whether emoji add any emotional value to the text. \n",
    "\n",
    "Main steps:\n",
    "1. Choose emoji-rich dataset\n",
    "2. Delete emojis from it \n",
    "3. Create embeddings from input text\n",
    "4. Search for the most relevant text from database\n",
    "5. Drive conclusions about actual relevance using metrics"
   ]
  },
  {
   "cell_type": "code",
   "execution_count": 16,
   "id": "19dc7d52",
   "metadata": {},
   "outputs": [],
   "source": [
    "import pandas as pd\n",
    "import numpy as np\n",
    "import emoji\n",
    "import os\n",
    "from transformers import AutoTokenizer, AutoModelForSequenceClassification\n",
    "import faiss\n",
    "from tabulate import tabulate\n",
    "import torch"
   ]
  },
  {
   "cell_type": "markdown",
   "id": "2ef6a712",
   "metadata": {},
   "source": [
    "## 1. Prepare csv files"
   ]
  },
  {
   "cell_type": "code",
   "execution_count": 36,
   "id": "72b24ad3",
   "metadata": {},
   "outputs": [
    {
     "name": "stdout",
     "output_type": "stream",
     "text": [
      "Loaded face_savoring_food.csv with 20000 rows\n",
      "Loaded egg.csv with 20001 rows\n",
      "Loaded fearful_face.csv with 20000 rows\n",
      "Loaded sun.csv with 20000 rows\n",
      "Loaded eyes.csv with 20000 rows\n",
      "Error loading backhand_index_pointing_right.csv: Error tokenizing data. C error: Buffer overflow caught - possible malformed input file.\n",
      "\n",
      "Loaded smiling_face_with_hearts.csv with 20000 rows\n",
      "Loaded smiling_face_with_tear.csv with 20000 rows\n",
      "Error loading red_heart.csv: Error tokenizing data. C error: Buffer overflow caught - possible malformed input file.\n",
      "\n",
      "Loaded rolling_on_the_floor_laughing.csv with 20000 rows\n",
      "Loaded check_mark.csv with 20000 rows\n",
      "Loaded face_holding_back_tears.csv with 20000 rows\n",
      "Loaded pile_of_poo.csv with 20000 rows\n",
      "Loaded enraged_face.csv with 20000 rows\n",
      "Loaded loudly_crying_face.csv with 20000 rows\n",
      "Loaded partying_face.csv with 20001 rows\n",
      "Loaded winking_face.csv with 20000 rows\n",
      "Loaded face_with_tears_of_joy.csv with 20000 rows\n",
      "Loaded grinning_face_with_sweat.csv with 20000 rows\n",
      "Loaded thumbs_up.csv with 20000 rows\n",
      "Loaded smiling_face_with_halo.csv with 20000 rows\n",
      "Loaded cooking.csv with 20000 rows\n",
      "Loaded face_with_steam_from_nose.csv with 20000 rows\n",
      "Loaded sparkles.csv with 20000 rows\n",
      "Loaded rabbit_face.csv with 20000 rows\n",
      "Loaded ghost.csv with 20000 rows\n",
      "Loaded smiling_face_with_sunglasses.csv with 20000 rows\n",
      "Loaded hatching_chick.csv with 20000 rows\n",
      "Loaded hot_face.csv with 20000 rows\n",
      "Loaded white_heart.csv with 20000 rows\n",
      "Loaded party_popper.csv with 20000 rows\n",
      "Loaded skull.csv with 20000 rows\n",
      "Loaded thinking_face.csv with 20000 rows\n",
      "Loaded rabbit.csv with 20000 rows\n",
      "Loaded smiling_face.csv with 20000 rows\n",
      "Loaded smiling_face_with_heart-eyes.csv with 20000 rows\n",
      "Loaded folded_hands.csv with 20000 rows\n",
      "Loaded fire.csv with 20000 rows\n",
      "Loaded melting_face.csv with 20000 rows\n",
      "Loaded middle_finger.csv with 20000 rows\n",
      "Loaded saluting_face.csv with 20000 rows\n",
      "Loaded check_mark_button.csv with 20000 rows\n",
      "Loaded clown_face.csv with 20000 rows\n",
      "Combined dataset size: 820002 rows\n"
     ]
    }
   ],
   "source": [
    "all_dfs = []\n",
    "for file_name in os.listdir(\"archive\"):\n",
    "    if file_name.endswith('.csv'):\n",
    "        file_path = os.path.join(\"archive\", file_name)\n",
    "        try:\n",
    "            # Read CSV with appropriate encoding\n",
    "            df = pd.read_csv(file_path)\n",
    "            all_dfs.append(df)\n",
    "            print(f\"Loaded {file_name} with {len(df)} rows\")\n",
    "        except Exception as e:\n",
    "            print(f\"Error loading {file_name}: {e}\")\n",
    "\n",
    "combined_df = pd.concat(all_dfs, ignore_index=True)\n",
    "print(f\"Combined dataset size: {len(combined_df)} rows\")"
   ]
  },
  {
   "cell_type": "code",
   "execution_count": 38,
   "id": "404f4f74",
   "metadata": {},
   "outputs": [
    {
     "data": {
      "text/html": [
       "<div>\n",
       "<style scoped>\n",
       "    .dataframe tbody tr th:only-of-type {\n",
       "        vertical-align: middle;\n",
       "    }\n",
       "\n",
       "    .dataframe tbody tr th {\n",
       "        vertical-align: top;\n",
       "    }\n",
       "\n",
       "    .dataframe thead th {\n",
       "        text-align: right;\n",
       "    }\n",
       "</style>\n",
       "<table border=\"1\" class=\"dataframe\">\n",
       "  <thead>\n",
       "    <tr style=\"text-align: right;\">\n",
       "      <th></th>\n",
       "      <th>Text</th>\n",
       "    </tr>\n",
       "  </thead>\n",
       "  <tbody>\n",
       "    <tr>\n",
       "      <th>0</th>\n",
       "      <td>@PastorAlexLove Thank you, pastor. My mouth sh...</td>\n",
       "    </tr>\n",
       "    <tr>\n",
       "      <th>1</th>\n",
       "      <td>So horny right now, sending pics of my thick h...</td>\n",
       "    </tr>\n",
       "    <tr>\n",
       "      <th>2</th>\n",
       "      <td>😋  I will be quiet cause she already know.</td>\n",
       "    </tr>\n",
       "    <tr>\n",
       "      <th>3</th>\n",
       "      <td>tonights supper is fake bake and chips. tomorr...</td>\n",
       "    </tr>\n",
       "    <tr>\n",
       "      <th>4</th>\n",
       "      <td>Bout to make my linguini 😋</td>\n",
       "    </tr>\n",
       "  </tbody>\n",
       "</table>\n",
       "</div>"
      ],
      "text/plain": [
       "                                                Text\n",
       "0  @PastorAlexLove Thank you, pastor. My mouth sh...\n",
       "1  So horny right now, sending pics of my thick h...\n",
       "2         😋  I will be quiet cause she already know.\n",
       "3  tonights supper is fake bake and chips. tomorr...\n",
       "4                         Bout to make my linguini 😋"
      ]
     },
     "execution_count": 38,
     "metadata": {},
     "output_type": "execute_result"
    }
   ],
   "source": [
    "combined_df.head()"
   ]
  },
  {
   "cell_type": "code",
   "execution_count": 39,
   "id": "cad736d7",
   "metadata": {},
   "outputs": [],
   "source": [
    "combined_df.to_csv(\"combined_dataset.csv\", index=False)"
   ]
  },
  {
   "cell_type": "markdown",
   "id": "1bfeb3cc",
   "metadata": {},
   "source": [
    "## 2. Load dataset and filter rows with emojis"
   ]
  },
  {
   "cell_type": "code",
   "execution_count": 2,
   "id": "bba9b9ba",
   "metadata": {},
   "outputs": [],
   "source": [
    "# Function to remove emojis\n",
    "def remove_emoji(text):\n",
    "    return emoji.replace_emoji(text, replace='')  # Replace emojis with empty string\n",
    "\n",
    "# Function to generate embeddings\n",
    "def get_embedding(text, tokenizer, model, device='cpu'):\n",
    "    # Tokenization\n",
    "    inputs = tokenizer(text, return_tensors=\"pt\", padding=True, truncation=True, max_length=512)\n",
    "    inputs = {key: val.to(device) for key, val in inputs.items()}\n",
    "    \n",
    "    # Get model outputs\n",
    "    with torch.no_grad():\n",
    "        outputs = model(**inputs, output_hidden_states=True)\n",
    "    \n",
    "    # Extract the last hidden state (batch_size, seq_len, hidden_size)\n",
    "    hidden_states = outputs.hidden_states[-1]  # Last layer\n",
    "    # Use the [CLS] token embedding (first position)\n",
    "    cls_embedding = hidden_states[:, 0, :].squeeze().cpu().numpy()\n",
    "    return cls_embedding.astype(np.float32)"
   ]
  },
  {
   "cell_type": "code",
   "execution_count": 3,
   "id": "8b7d9710",
   "metadata": {},
   "outputs": [],
   "source": [
    "# Loading the model\n",
    "tokenizer = AutoTokenizer.from_pretrained(\"SamLowe/roberta-base-go_emotions\")\n",
    "model = AutoModelForSequenceClassification.from_pretrained(\"SamLowe/roberta-base-go_emotions\")"
   ]
  },
  {
   "cell_type": "code",
   "execution_count": 4,
   "id": "0824227e",
   "metadata": {},
   "outputs": [],
   "source": [
    "# Load the dataset\n",
    "df = pd.read_csv('combined_dataset.csv')"
   ]
  },
  {
   "cell_type": "code",
   "execution_count": 5,
   "id": "ffb28ecb",
   "metadata": {},
   "outputs": [],
   "source": [
    "# Filter if text contains emoji\n",
    "df['has_emoji'] = df['Text'].apply(lambda x: bool(emoji.emoji_count(str(x))))\n",
    "emoji_rich_df = df[df['has_emoji']].copy()"
   ]
  },
  {
   "cell_type": "code",
   "execution_count": 6,
   "id": "72c9fc48",
   "metadata": {},
   "outputs": [
    {
     "data": {
      "text/plain": [
       "0    @PastorAlexLove Thank you, pastor. My mouth sh...\n",
       "1    So horny right now, sending pics of my thick h...\n",
       "2           😋  I will be quiet cause she already know.\n",
       "3    tonights supper is fake bake and chips. tomorr...\n",
       "4                           Bout to make my linguini 😋\n",
       "Name: Text, dtype: object"
      ]
     },
     "execution_count": 6,
     "metadata": {},
     "output_type": "execute_result"
    }
   ],
   "source": [
    "emoji_rich_df['Text'].head()"
   ]
  },
  {
   "cell_type": "code",
   "execution_count": 7,
   "id": "a567779b",
   "metadata": {},
   "outputs": [],
   "source": [
    "# Select a subset\n",
    "df_subset = emoji_rich_df.sample(n=100, random_state=100).reset_index(drop=True)"
   ]
  },
  {
   "cell_type": "code",
   "execution_count": 8,
   "id": "cc2b2c69",
   "metadata": {},
   "outputs": [
    {
     "data": {
      "text/html": [
       "<div>\n",
       "<style scoped>\n",
       "    .dataframe tbody tr th:only-of-type {\n",
       "        vertical-align: middle;\n",
       "    }\n",
       "\n",
       "    .dataframe tbody tr th {\n",
       "        vertical-align: top;\n",
       "    }\n",
       "\n",
       "    .dataframe thead th {\n",
       "        text-align: right;\n",
       "    }\n",
       "</style>\n",
       "<table border=\"1\" class=\"dataframe\">\n",
       "  <thead>\n",
       "    <tr style=\"text-align: right;\">\n",
       "      <th></th>\n",
       "      <th>Text</th>\n",
       "      <th>has_emoji</th>\n",
       "    </tr>\n",
       "  </thead>\n",
       "  <tbody>\n",
       "    <tr>\n",
       "      <th>0</th>\n",
       "      <td>@BEIDOUlSM i hope you have lovely dreams and n...</td>\n",
       "      <td>True</td>\n",
       "    </tr>\n",
       "    <tr>\n",
       "      <th>1</th>\n",
       "      <td>@ErfderEmpires I enjoy people who think not ha...</td>\n",
       "      <td>True</td>\n",
       "    </tr>\n",
       "    <tr>\n",
       "      <th>2</th>\n",
       "      <td>@TheRealJosh05 @PFF All Pro LT, Top 3 Tackle i...</td>\n",
       "      <td>True</td>\n",
       "    </tr>\n",
       "    <tr>\n",
       "      <th>3</th>\n",
       "      <td>@girllikeglory Do shout-out for me na 🥲😭</td>\n",
       "      <td>True</td>\n",
       "    </tr>\n",
       "    <tr>\n",
       "      <th>4</th>\n",
       "      <td>i don't even know how to describe him anymore 🫠</td>\n",
       "      <td>True</td>\n",
       "    </tr>\n",
       "  </tbody>\n",
       "</table>\n",
       "</div>"
      ],
      "text/plain": [
       "                                                Text  has_emoji\n",
       "0  @BEIDOUlSM i hope you have lovely dreams and n...       True\n",
       "1  @ErfderEmpires I enjoy people who think not ha...       True\n",
       "2  @TheRealJosh05 @PFF All Pro LT, Top 3 Tackle i...       True\n",
       "3           @girllikeglory Do shout-out for me na 🥲😭       True\n",
       "4    i don't even know how to describe him anymore 🫠       True"
      ]
     },
     "execution_count": 8,
     "metadata": {},
     "output_type": "execute_result"
    }
   ],
   "source": [
    "df_subset.head()"
   ]
  },
  {
   "cell_type": "markdown",
   "id": "d75302b4",
   "metadata": {},
   "source": [
    "## 3. Create Faiss index"
   ]
  },
  {
   "cell_type": "code",
   "execution_count": 9,
   "id": "7f50c337",
   "metadata": {},
   "outputs": [],
   "source": [
    "# Load quotes embeddings\n",
    "quotes_df = pd.read_csv('selected_quotes_embeddings.csv')"
   ]
  },
  {
   "cell_type": "code",
   "execution_count": 10,
   "id": "3cef70cc",
   "metadata": {},
   "outputs": [],
   "source": [
    "# Function to safely parse embeddings\n",
    "def parse_embedding(emb):\n",
    "    try:\n",
    "        if isinstance(emb, str):\n",
    "            return np.array(eval(emb), dtype=np.float32)\n",
    "        return np.array(emb, dtype=np.float32)\n",
    "    except Exception as e:\n",
    "        print(f\"Error parsing embedding: {e}\")\n",
    "        return None"
   ]
  },
  {
   "cell_type": "code",
   "execution_count": 11,
   "id": "acc8815d",
   "metadata": {},
   "outputs": [],
   "source": [
    "# Create Faiss index for efficient similarity search\n",
    "index = faiss.IndexFlatIP(768)  # Inner Product (cosine similarity)"
   ]
  },
  {
   "cell_type": "code",
   "execution_count": 12,
   "id": "89419d65",
   "metadata": {},
   "outputs": [
    {
     "name": "stdout",
     "output_type": "stream",
     "text": [
      "Processed chunk 1/11\n",
      "Processed chunk 2/11\n",
      "Processed chunk 3/11\n",
      "Processed chunk 4/11\n",
      "Processed chunk 5/11\n",
      "Processed chunk 6/11\n",
      "Processed chunk 7/11\n",
      "Processed chunk 8/11\n",
      "Processed chunk 9/11\n",
      "Processed chunk 10/11\n",
      "Processed chunk 11/11\n"
     ]
    }
   ],
   "source": [
    "for i in range(0, len(quotes_df), 10000):\n",
    "    chunk = quotes_df.iloc[i:i + 10000]\n",
    "    chunk_embeddings = [parse_embedding(emb) for emb in chunk['embeddings']]\n",
    "    # Only keep valid embeddings\n",
    "    chunk_embeddings = [emb for emb in chunk_embeddings if emb is not None and emb.shape == (768,)]\n",
    "    if chunk_embeddings:\n",
    "        chunk_array = np.vstack(chunk_embeddings)  # Combine only valid embeddings\n",
    "        faiss.normalize_L2(chunk_array)  # Normalize for cosine similarity search\n",
    "        index.add(chunk_array)  # Add to index\n",
    "    print(f\"Processed chunk {i // 10000 + 1}/{len(quotes_df) // 10000 + 1}\")"
   ]
  },
  {
   "cell_type": "code",
   "execution_count": 13,
   "id": "4c341bda",
   "metadata": {},
   "outputs": [],
   "source": [
    "# Function to search top-k similar quotes\n",
    "def search_similar_quotes(query_embedding, k=5):\n",
    "    faiss.normalize_L2(query_embedding.reshape(1, -1))\n",
    "    distances, indices = index.search(query_embedding.reshape(1, -1), k)\n",
    "    return distances[0], indices[0]"
   ]
  },
  {
   "cell_type": "markdown",
   "id": "d09a5ffb",
   "metadata": {},
   "source": [
    "## 4. Evaluation"
   ]
  },
  {
   "cell_type": "code",
   "execution_count": 17,
   "id": "64740008",
   "metadata": {},
   "outputs": [],
   "source": [
    "# Evaluate impact of emojis\n",
    "results = []\n",
    "for idx, row in df_subset.iterrows():\n",
    "    input_text = row['Text']\n",
    "    \n",
    "    # Emojis Removed\n",
    "    clean_text = remove_emoji(input_text)\n",
    "    clean_embedding = get_embedding(clean_text, tokenizer, model)\n",
    "    clean_distances, clean_indices = search_similar_quotes(clean_embedding)\n",
    "    clean_avg_similarity = np.mean(clean_distances)\n",
    "    clean_quotes = [quotes_df.iloc[idx]['quote'] for idx in clean_indices]\n",
    "\n",
    "    \n",
    "    results.append({\n",
    "        'text': input_text,\n",
    "        'clean_avg_similarity': clean_avg_similarity,\n",
    "        'clean_quotes': clean_quotes\n",
    "    })"
   ]
  },
  {
   "cell_type": "code",
   "execution_count": 18,
   "id": "b111a435",
   "metadata": {},
   "outputs": [
    {
     "name": "stdout",
     "output_type": "stream",
     "text": [
      "\n",
      "=== Detailed Results ===\n",
      "\n",
      "Query 1: @BEIDOUlSM i hope you have lovely dreams and not terrible angsty kaveh nighmares tonight!! 😔😔\n",
      "Average Cosine Similarity (Emojis Removed): 0.9366\n",
      "\n",
      "Top-K Quotes (Emojis Removed):\n",
      "+----+-------------------------------------------------------------------------------------------------+------------------------+------------------------------------------------------+\n",
      "|    | text                                                                                            |   clean_avg_similarity | clean_quotes                                         |\n",
      "|----+-------------------------------------------------------------------------------------------------+------------------------+------------------------------------------------------|\n",
      "|  0 | @BEIDOUlSM i hope you have lovely dreams and not terrible angsty kaveh nighmares tonight!! 😔😔 |                 0.9366 | A blessed hope, a blessed life.                      |\n",
      "|  1 | @BEIDOUlSM i hope you have lovely dreams and not terrible angsty kaveh nighmares tonight!! 😔😔 |                 0.9366 | Almighty God, I hope in you.                         |\n",
      "|  2 | @BEIDOUlSM i hope you have lovely dreams and not terrible angsty kaveh nighmares tonight!! 😔😔 |                 0.9366 | Just keep hope within you and your path will be lit. |\n",
      "|  3 | @BEIDOUlSM i hope you have lovely dreams and not terrible angsty kaveh nighmares tonight!! 😔😔 |                 0.9366 | My hope is in you, Mighty One!                       |\n",
      "|  4 | @BEIDOUlSM i hope you have lovely dreams and not terrible angsty kaveh nighmares tonight!! 😔😔 |                 0.9366 | My hope is in God.                                   |\n",
      "+----+-------------------------------------------------------------------------------------------------+------------------------+------------------------------------------------------+\n",
      "\n",
      "Query 2: @ErfderEmpires I enjoy people who think not hanging out with them in raid is a punishment, because it’s really a blessing. 🙏\n",
      "Average Cosine Similarity (Emojis Removed): 0.9761\n",
      "\n",
      "Top-K Quotes (Emojis Removed):\n",
      "+----+-------------------------------------------------------------------------------------------------------------------------------+------------------------+------------------------------------------------------------------+\n",
      "|    | text                                                                                                                          |   clean_avg_similarity | clean_quotes                                                     |\n",
      "|----+-------------------------------------------------------------------------------------------------------------------------------+------------------------+------------------------------------------------------------------|\n",
      "|  0 | @ErfderEmpires I enjoy people who think not hanging out with them in raid is a punishment, because it’s really a blessing. 🙏 |                 0.9761 | The reason I exercise is for the quality of life I enjoy.        |\n",
      "|  1 | @ErfderEmpires I enjoy people who think not hanging out with them in raid is a punishment, because it’s really a blessing. 🙏 |                 0.9761 | It is not how long the music last but how much we enjoy.         |\n",
      "|  2 | @ErfderEmpires I enjoy people who think not hanging out with them in raid is a punishment, because it’s really a blessing. 🙏 |                 0.9761 | Enjoying nonsense is one of life's primal pleasures.             |\n",
      "|  3 | @ErfderEmpires I enjoy people who think not hanging out with them in raid is a punishment, because it’s really a blessing. 🙏 |                 0.9761 | Smile, just because you're alive and enjoying the magic of life. |\n",
      "|  4 | @ErfderEmpires I enjoy people who think not hanging out with them in raid is a punishment, because it’s really a blessing. 🙏 |                 0.9761 | I rather enjoy being contradicted. It forces me to think harder. |\n",
      "+----+-------------------------------------------------------------------------------------------------------------------------------+------------------------+------------------------------------------------------------------+\n",
      "\n",
      "Query 3: @TheRealJosh05 @PFF All Pro LT, Top 3 Tackle in the league = B 🤡\n",
      "Average Cosine Similarity (Emojis Removed): 0.9684\n",
      "\n",
      "Top-K Quotes (Emojis Removed):\n",
      "+----+-------------------------------------------------------------------+------------------------+----------------------------------------------------+\n",
      "|    | text                                                              |   clean_avg_similarity | clean_quotes                                       |\n",
      "|----+-------------------------------------------------------------------+------------------------+----------------------------------------------------|\n",
      "|  0 | @TheRealJosh05 @PFF All Pro LT, Top 3 Tackle in the league = B 🤡 |                 0.9684 | For Honor and the Octagon!                         |\n",
      "|  1 | @TheRealJosh05 @PFF All Pro LT, Top 3 Tackle in the league = B 🤡 |                 0.9684 | Power and moneyLike Pooh Bear and honeyStick fast. |\n",
      "|  2 | @TheRealJosh05 @PFF All Pro LT, Top 3 Tackle in the league = B 🤡 |                 0.9684 | Media: the tongue of a nation!                     |\n",
      "|  3 | @TheRealJosh05 @PFF All Pro LT, Top 3 Tackle in the league = B 🤡 |                 0.9684 | Language is fossil Poetry.                         |\n",
      "|  4 | @TheRealJosh05 @PFF All Pro LT, Top 3 Tackle in the league = B 🤡 |                 0.9684 | WU WEIflow of Life governed by Tao                 |\n",
      "+----+-------------------------------------------------------------------+------------------------+----------------------------------------------------+\n",
      "\n",
      "Query 4: @girllikeglory Do shout-out for me na 🥲😭\n",
      "Average Cosine Similarity (Emojis Removed): 0.9403\n",
      "\n",
      "Top-K Quotes (Emojis Removed):\n",
      "+----+--------------------------------------------+------------------------+-------------------------------------------------------+\n",
      "|    | text                                       |   clean_avg_similarity | clean_quotes                                          |\n",
      "|----+--------------------------------------------+------------------------+-------------------------------------------------------|\n",
      "|  0 | @girllikeglory Do shout-out for me na 🥲😭 |                 0.9403 | Bring it, Darth Bathrobe!                             |\n",
      "|  1 | @girllikeglory Do shout-out for me na 🥲😭 |                 0.9403 | MELODYLong chorus,pierce the night.Noon for crickets. |\n",
      "|  2 | @girllikeglory Do shout-out for me na 🥲😭 |                 0.9403 | His Kiss:He has me at his every whim                  |\n",
      "|  3 | @girllikeglory Do shout-out for me na 🥲😭 |                 0.9403 | Be the spark—live light!                              |\n",
      "|  4 | @girllikeglory Do shout-out for me na 🥲😭 |                 0.9403 | In the name of the Pizza Lord. Charge!                |\n",
      "+----+--------------------------------------------+------------------------+-------------------------------------------------------+\n",
      "\n",
      "Query 5: i don't even know how to describe him anymore 🫠\n",
      "Average Cosine Similarity (Emojis Removed): 0.9694\n",
      "\n",
      "Top-K Quotes (Emojis Removed):\n",
      "+----+--------------------------------------------------+------------------------+---------------------------------------------------------+\n",
      "|    | text                                             |   clean_avg_similarity | clean_quotes                                            |\n",
      "|----+--------------------------------------------------+------------------------+---------------------------------------------------------|\n",
      "|  0 | i don't even know how to describe him anymore 🫠 |                 0.9694 | I don't know how to depict intelligence.                |\n",
      "|  1 | i don't even know how to describe him anymore 🫠 |                 0.9694 | I don't even know what a room without books looks like. |\n",
      "|  2 | i don't even know how to describe him anymore 🫠 |                 0.9694 | I don’t understand philosophy                           |\n",
      "|  3 | i don't even know how to describe him anymore 🫠 |                 0.9694 | I don't understand boys.                                |\n",
      "|  4 | i don't even know how to describe him anymore 🫠 |                 0.9694 | Once in my room I don't have a goddamn clue what to do. |\n",
      "+----+--------------------------------------------------+------------------------+---------------------------------------------------------+\n",
      "\n",
      "Query 6: @kavehlawak NO CAUSE I LITERALLY MISS THE FEELINGS WHEN I WATCH TRIGUN FOR THE FIRST TIME i might rewatch it next week 🫠\n",
      "Average Cosine Similarity (Emojis Removed): 0.8408\n",
      "\n",
      "Top-K Quotes (Emojis Removed):\n",
      "+----+---------------------------------------------------------------------------------------------------------------------------+------------------------+---------------------------------------------------------+\n",
      "|    | text                                                                                                                      |   clean_avg_similarity | clean_quotes                                            |\n",
      "|----+---------------------------------------------------------------------------------------------------------------------------+------------------------+---------------------------------------------------------|\n",
      "|  0 | @kavehlawak NO CAUSE I LITERALLY MISS THE FEELINGS WHEN I WATCH TRIGUN FOR THE FIRST TIME i might rewatch it next week 🫠 |                 0.8408 | Poetry is what gets lost in translation.                |\n",
      "|  1 | @kavehlawak NO CAUSE I LITERALLY MISS THE FEELINGS WHEN I WATCH TRIGUN FOR THE FIRST TIME i might rewatch it next week 🫠 |                 0.8408 | The light within the darkness- you've lost sight of it. |\n",
      "|  2 | @kavehlawak NO CAUSE I LITERALLY MISS THE FEELINGS WHEN I WATCH TRIGUN FOR THE FIRST TIME i might rewatch it next week 🫠 |                 0.8408 | I have a plot, but not much happens.                    |\n",
      "|  3 | @kavehlawak NO CAUSE I LITERALLY MISS THE FEELINGS WHEN I WATCH TRIGUN FOR THE FIRST TIME i might rewatch it next week 🫠 |                 0.8408 | My wife and I had words -  but I never got to use mine. |\n",
      "|  4 | @kavehlawak NO CAUSE I LITERALLY MISS THE FEELINGS WHEN I WATCH TRIGUN FOR THE FIRST TIME i might rewatch it next week 🫠 |                 0.8408 | Even when we win, we lose, Lyss thought.                |\n",
      "+----+---------------------------------------------------------------------------------------------------------------------------+------------------------+---------------------------------------------------------+\n",
      "\n",
      "Query 7: ♥️\n",
      "\n",
      "I vote #V from #BTS for #TOP100KPOPMEMBERS @TOP100KPOP\n",
      "Average Cosine Similarity (Emojis Removed): 0.9551\n",
      "\n",
      "Top-K Quotes (Emojis Removed):\n",
      "+----+--------------------------------------------------------+------------------------+-----------------------------------------------------------------+\n",
      "|    | text                                                   |   clean_avg_similarity | clean_quotes                                                    |\n",
      "|----+--------------------------------------------------------+------------------------+-----------------------------------------------------------------|\n",
      "|  0 | ♥️                                                     |                 0.9551 | Dream and Done                                                  |\n",
      "|    |                                                        |                        |                                                                 |\n",
      "|    | I vote #V from #BTS for #TOP100KPOPMEMBERS @TOP100KPOP |                        |                                                                 |\n",
      "|  1 | ♥️                                                     |                 0.9551 | Passion + Purpose = Prosperity.                                 |\n",
      "|    |                                                        |                        |                                                                 |\n",
      "|    | I vote #V from #BTS for #TOP100KPOPMEMBERS @TOP100KPOP |                        |                                                                 |\n",
      "|  2 | ♥️                                                     |                 0.9551 | DESIGN & BUILDFaith Fashions Fate = Belief Builds Bridges       |\n",
      "|    |                                                        |                        |                                                                 |\n",
      "|    | I vote #V from #BTS for #TOP100KPOPMEMBERS @TOP100KPOP |                        |                                                                 |\n",
      "|  3 | ♥️                                                     |                 0.9551 | COINS are for LAZY PEOPLE to DECIDE and for WISE MEN to INVEST. |\n",
      "|    |                                                        |                        |                                                                 |\n",
      "|    | I vote #V from #BTS for #TOP100KPOPMEMBERS @TOP100KPOP |                        |                                                                 |\n",
      "|  4 | ♥️                                                     |                 0.9551 | Positive energy, positive actions.                              |\n",
      "|    |                                                        |                        |                                                                 |\n",
      "|    | I vote #V from #BTS for #TOP100KPOPMEMBERS @TOP100KPOP |                        |                                                                 |\n",
      "+----+--------------------------------------------------------+------------------------+-----------------------------------------------------------------+\n",
      "\n",
      "Query 8: @marklevinshow How is it that so called LAWS don’t apply to Criminals ‼️‼️‼️‼️‼️🤔🤔🤔🤔🤔🤔🤔🤔🤔🤔🤔🤔🤔🤔🤔😡😡😡😡😡😡😡😡😡😡😡😡😡😱😱😱😱😱😱😱😱😱😱😱😱😱🤯🤯🤯🤯🤯🤯🤯🤯🤯🤯🤯🤯🤯🤫🤫🤫🤫🤫🤫🤫🤫🤫🤫🤫🤫🤫\n",
      "Average Cosine Similarity (Emojis Removed): 0.9535\n",
      "\n",
      "Top-K Quotes (Emojis Removed):\n",
      "+----+------------------------------------------------------------------------------------------------------------------------------------------------------------------------------------------------------------------------+------------------------+------------------------------------------------------+\n",
      "|    | text                                                                                                                                                                                                                   |   clean_avg_similarity | clean_quotes                                         |\n",
      "|----+------------------------------------------------------------------------------------------------------------------------------------------------------------------------------------------------------------------------+------------------------+------------------------------------------------------|\n",
      "|  0 | @marklevinshow How is it that so called LAWS don’t apply to Criminals ‼️‼️‼️‼️‼️🤔🤔🤔🤔🤔🤔🤔🤔🤔🤔🤔🤔🤔🤔🤔😡😡😡😡😡😡😡😡😡😡😡😡😡😱😱😱😱😱😱😱😱😱😱😱😱😱🤯🤯🤯🤯🤯🤯🤯🤯🤯🤯🤯🤯🤯🤫🤫🤫🤫🤫🤫🤫🤫🤫🤫🤫🤫🤫 |                 0.9535 | Why can't a tree be called Pluplusch?                |\n",
      "|  1 | @marklevinshow How is it that so called LAWS don’t apply to Criminals ‼️‼️‼️‼️‼️🤔🤔🤔🤔🤔🤔🤔🤔🤔🤔🤔🤔🤔🤔🤔😡😡😡😡😡😡😡😡😡😡😡😡😡😱😱😱😱😱😱😱😱😱😱😱😱😱🤯🤯🤯🤯🤯🤯🤯🤯🤯🤯🤯🤯🤯🤫🤫🤫🤫🤫🤫🤫🤫🤫🤫🤫🤫🤫 |                 0.9535 | why Human should not look at the past?               |\n",
      "|  2 | @marklevinshow How is it that so called LAWS don’t apply to Criminals ‼️‼️‼️‼️‼️🤔🤔🤔🤔🤔🤔🤔🤔🤔🤔🤔🤔🤔🤔🤔😡😡😡😡😡😡😡😡😡😡😡😡😡😱😱😱😱😱😱😱😱😱😱😱😱😱🤯🤯🤯🤯🤯🤯🤯🤯🤯🤯🤯🤯🤯🤫🤫🤫🤫🤫🤫🤫🤫🤫🤫🤫🤫🤫 |                 0.9535 | Why didn't they ask the Evans?                       |\n",
      "|  3 | @marklevinshow How is it that so called LAWS don’t apply to Criminals ‼️‼️‼️‼️‼️🤔🤔🤔🤔🤔🤔🤔🤔🤔🤔🤔🤔🤔🤔🤔😡😡😡😡😡😡😡😡😡😡😡😡😡😱😱😱😱😱😱😱😱😱😱😱😱😱🤯🤯🤯🤯🤯🤯🤯🤯🤯🤯🤯🤯🤯🤫🤫🤫🤫🤫🤫🤫🤫🤫🤫🤫🤫🤫 |                 0.9535 | If he didn`t want his opinion,why did he ask for it? |\n",
      "|  4 | @marklevinshow How is it that so called LAWS don’t apply to Criminals ‼️‼️‼️‼️‼️🤔🤔🤔🤔🤔🤔🤔🤔🤔🤔🤔🤔🤔🤔🤔😡😡😡😡😡😡😡😡😡😡😡😡😡😱😱😱😱😱😱😱😱😱😱😱😱😱🤯🤯🤯🤯🤯🤯🤯🤯🤯🤯🤯🤯🤯🤫🤫🤫🤫🤫🤫🤫🤫🤫🤫🤫🤫🤫 |                 0.9535 | boys, girls and music . . why do they need gin?      |\n",
      "+----+------------------------------------------------------------------------------------------------------------------------------------------------------------------------------------------------------------------------+------------------------+------------------------------------------------------+\n",
      "\n",
      "Query 9: @INTobservers I feel the exhaustion and cold. Without Russia’s invasion he might be enjoying his vacation with his family. Go to the hel Russia 😡\n",
      "Average Cosine Similarity (Emojis Removed): 0.8996\n",
      "\n",
      "Top-K Quotes (Emojis Removed):\n",
      "+----+----------------------------------------------------------------------------------------------------------------------------------------------------+------------------------+-----------------------------------------------------+\n",
      "|    | text                                                                                                                                               |   clean_avg_similarity | clean_quotes                                        |\n",
      "|----+----------------------------------------------------------------------------------------------------------------------------------------------------+------------------------+-----------------------------------------------------|\n",
      "|  0 | @INTobservers I feel the exhaustion and cold. Without Russia’s invasion he might be enjoying his vacation with his family. Go to the hel Russia 😡 |                 0.8996 | Bird leaves the land to enjoy the freedom           |\n",
      "|  1 | @INTobservers I feel the exhaustion and cold. Without Russia’s invasion he might be enjoying his vacation with his family. Go to the hel Russia 😡 |                 0.8996 | Her bluebird of happiness is teal.                  |\n",
      "|  2 | @INTobservers I feel the exhaustion and cold. Without Russia’s invasion he might be enjoying his vacation with his family. Go to the hel Russia 😡 |                 0.8996 | Shared joys make a friend, not shared sufferings.   |\n",
      "|  3 | @INTobservers I feel the exhaustion and cold. Without Russia’s invasion he might be enjoying his vacation with his family. Go to the hel Russia 😡 |                 0.8996 | Happiness never lays its finger on its pulse.       |\n",
      "|  4 | @INTobservers I feel the exhaustion and cold. Without Russia’s invasion he might be enjoying his vacation with his family. Go to the hel Russia 😡 |                 0.8996 | Ever let the Fancy roam  Pleasure never is at home. |\n",
      "+----+----------------------------------------------------------------------------------------------------------------------------------------------------+------------------------+-----------------------------------------------------+\n",
      "\n",
      "Query 10: @BostonsTitleTwn @rawsalerts @nicole_n303 You should consider actually studying the 2nd amendment 🤡\n",
      "Average Cosine Similarity (Emojis Removed): 0.8959\n",
      "\n",
      "Top-K Quotes (Emojis Removed):\n",
      "+----+------------------------------------------------------------------------------------------------------+------------------------+-----------------------------------------------------------+\n",
      "|    | text                                                                                                 |   clean_avg_similarity | clean_quotes                                              |\n",
      "|----+------------------------------------------------------------------------------------------------------+------------------------+-----------------------------------------------------------|\n",
      "|  0 | @BostonsTitleTwn @rawsalerts @nicole_n303 You should consider actually studying the 2nd amendment 🤡 |                 0.8959 | You can make time to read for 10-20 minutes daily.        |\n",
      "|  1 | @BostonsTitleTwn @rawsalerts @nicole_n303 You should consider actually studying the 2nd amendment 🤡 |                 0.8959 | You could warm Mars up, over time, with greenhouse gases. |\n",
      "|  2 | @BostonsTitleTwn @rawsalerts @nicole_n303 You should consider actually studying the 2nd amendment 🤡 |                 0.8959 | FOCUS = Follow On Course Until Successful.                |\n",
      "|  3 | @BostonsTitleTwn @rawsalerts @nicole_n303 You should consider actually studying the 2nd amendment 🤡 |                 0.8959 | You can come into the rest of God through solitude.       |\n",
      "|  4 | @BostonsTitleTwn @rawsalerts @nicole_n303 You should consider actually studying the 2nd amendment 🤡 |                 0.8959 | People will think while you can do, go and do it          |\n",
      "+----+------------------------------------------------------------------------------------------------------+------------------------+-----------------------------------------------------------+\n"
     ]
    }
   ],
   "source": [
    "# Pretty-print results for a few queries\n",
    "print(\"\\n=== Detailed Results ===\")\n",
    "for idx, res in enumerate(results[:10], 1):  # Show first 10 queries\n",
    "    print(f\"\\nQuery {idx}: {res['text']}\")\n",
    "    print(f\"Average Cosine Similarity (Emojis Removed): {res['clean_avg_similarity']:.4f}\")\n",
    "    \n",
    "    clean_table = pd.DataFrame(res)\n",
    "    \n",
    "    print(\"\\nTop-K Quotes (Emojis Removed):\")\n",
    "    print(tabulate(clean_table, headers='keys', tablefmt='psql', showindex=True, floatfmt='.4f'))"
   ]
  },
  {
   "cell_type": "markdown",
   "id": "32ff7a48",
   "metadata": {},
   "source": [
    "## Results analysis\n",
    "\n",
    "The results show high cosine similarities `(0.8959–0.9761)` when removing emojis, indicating strong syntactic matching with Quotes-500K. However, retrieved quotes often lack semantic and emotional relevance. For example, \"@BEIDOUlSM i hope you have lovely dreams...\" (0.9366) returns \"A blessed hope, a blessed life,\" missing the sadness conveyed by 😔 or sometimes sarcasm staying behind emojis. Emojis, critical for emotional context in social media, are lost when removed, so in case when input queue consists only from emojis we cannot gain any result. To improve, consider converting emojis to text (e.g., emoji.demojize), using emoji-aware models like emojinal."
   ]
  }
 ],
 "metadata": {
  "kernelspec": {
   "display_name": "Python 3",
   "language": "python",
   "name": "python3"
  },
  "language_info": {
   "codemirror_mode": {
    "name": "ipython",
    "version": 3
   },
   "file_extension": ".py",
   "mimetype": "text/x-python",
   "name": "python",
   "nbconvert_exporter": "python",
   "pygments_lexer": "ipython3",
   "version": "3.12.5"
  }
 },
 "nbformat": 4,
 "nbformat_minor": 5
}
