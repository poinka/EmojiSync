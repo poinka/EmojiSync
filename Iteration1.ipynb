{
 "cells": [
  {
   "cell_type": "markdown",
   "id": "a9b334cf",
   "metadata": {},
   "source": [
    "# 1st Iteration\n",
    "\n",
    "At first, let us try the simplest approach - our baseline - do not handle emojis at all (Treat them as UNK). The main purpose of this iteration is to check whether emoji add any emotional value to the text. \n",
    "\n",
    "Main steps:\n",
    "1. Choose emoji-rich dataset\n",
    "2. Delete emojis from it \n",
    "3. Create embeddings from input text\n",
    "4. Search for the most relevant text from database\n",
    "5. Drive conclusions about actual relevance using metrics"
   ]
  },
  {
   "cell_type": "code",
   "execution_count": null,
   "id": "bba9b9ba",
   "metadata": {},
   "outputs": [],
   "source": []
  },
  {
   "cell_type": "code",
   "execution_count": null,
   "id": "8b7d9710",
   "metadata": {},
   "outputs": [],
   "source": []
  }
 ],
 "metadata": {
  "language_info": {
   "name": "python"
  }
 },
 "nbformat": 4,
 "nbformat_minor": 5
}
