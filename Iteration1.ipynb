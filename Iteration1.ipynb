{
 "cells": [
  {
   "cell_type": "markdown",
   "id": "a9b334cf",
   "metadata": {},
   "source": [
    "# 1st Iteration\n",
    "\n",
    "At first, let us try the simplest approach - our baseline - do not handle emojis at all (Treat them as UNK). The main purpose of this iteration is to check whether emoji add any emotional value to the text. \n",
    "\n",
    "Main steps:\n",
    "1. Choose emoji-rich dataset\n",
    "2. Delete emojis from it \n",
    "3. Create embeddings from input text\n",
    "4. Search for the most relevant text from database\n",
    "5. Drive conclusions about actual relevance using metrics"
   ]
  },
  {
   "cell_type": "code",
   "execution_count": 21,
   "id": "19dc7d52",
   "metadata": {},
   "outputs": [],
   "source": [
    "import pandas as pd\n",
    "import numpy as np\n",
    "import emoji\n",
    "import os\n",
    "from sentence_transformers import SentenceTransformer\n",
    "import faiss\n",
    "from tabulate import tabulate"
   ]
  },
  {
   "cell_type": "markdown",
   "id": "2ef6a712",
   "metadata": {},
   "source": [
    "## 1. Prepare csv files"
   ]
  },
  {
   "cell_type": "code",
   "execution_count": 36,
   "id": "72b24ad3",
   "metadata": {},
   "outputs": [
    {
     "name": "stdout",
     "output_type": "stream",
     "text": [
      "Loaded face_savoring_food.csv with 20000 rows\n",
      "Loaded egg.csv with 20001 rows\n",
      "Loaded fearful_face.csv with 20000 rows\n",
      "Loaded sun.csv with 20000 rows\n",
      "Loaded eyes.csv with 20000 rows\n",
      "Error loading backhand_index_pointing_right.csv: Error tokenizing data. C error: Buffer overflow caught - possible malformed input file.\n",
      "\n",
      "Loaded smiling_face_with_hearts.csv with 20000 rows\n",
      "Loaded smiling_face_with_tear.csv with 20000 rows\n",
      "Error loading red_heart.csv: Error tokenizing data. C error: Buffer overflow caught - possible malformed input file.\n",
      "\n",
      "Loaded rolling_on_the_floor_laughing.csv with 20000 rows\n",
      "Loaded check_mark.csv with 20000 rows\n",
      "Loaded face_holding_back_tears.csv with 20000 rows\n",
      "Loaded pile_of_poo.csv with 20000 rows\n",
      "Loaded enraged_face.csv with 20000 rows\n",
      "Loaded loudly_crying_face.csv with 20000 rows\n",
      "Loaded partying_face.csv with 20001 rows\n",
      "Loaded winking_face.csv with 20000 rows\n",
      "Loaded face_with_tears_of_joy.csv with 20000 rows\n",
      "Loaded grinning_face_with_sweat.csv with 20000 rows\n",
      "Loaded thumbs_up.csv with 20000 rows\n",
      "Loaded smiling_face_with_halo.csv with 20000 rows\n",
      "Loaded cooking.csv with 20000 rows\n",
      "Loaded face_with_steam_from_nose.csv with 20000 rows\n",
      "Loaded sparkles.csv with 20000 rows\n",
      "Loaded rabbit_face.csv with 20000 rows\n",
      "Loaded ghost.csv with 20000 rows\n",
      "Loaded smiling_face_with_sunglasses.csv with 20000 rows\n",
      "Loaded hatching_chick.csv with 20000 rows\n",
      "Loaded hot_face.csv with 20000 rows\n",
      "Loaded white_heart.csv with 20000 rows\n",
      "Loaded party_popper.csv with 20000 rows\n",
      "Loaded skull.csv with 20000 rows\n",
      "Loaded thinking_face.csv with 20000 rows\n",
      "Loaded rabbit.csv with 20000 rows\n",
      "Loaded smiling_face.csv with 20000 rows\n",
      "Loaded smiling_face_with_heart-eyes.csv with 20000 rows\n",
      "Loaded folded_hands.csv with 20000 rows\n",
      "Loaded fire.csv with 20000 rows\n",
      "Loaded melting_face.csv with 20000 rows\n",
      "Loaded middle_finger.csv with 20000 rows\n",
      "Loaded saluting_face.csv with 20000 rows\n",
      "Loaded check_mark_button.csv with 20000 rows\n",
      "Loaded clown_face.csv with 20000 rows\n",
      "Combined dataset size: 820002 rows\n"
     ]
    }
   ],
   "source": [
    "all_dfs = []\n",
    "for file_name in os.listdir(\"archive\"):\n",
    "    if file_name.endswith('.csv'):\n",
    "        file_path = os.path.join(\"archive\", file_name)\n",
    "        try:\n",
    "            # Read CSV with appropriate encoding\n",
    "            df = pd.read_csv(file_path)\n",
    "            all_dfs.append(df)\n",
    "            print(f\"Loaded {file_name} with {len(df)} rows\")\n",
    "        except Exception as e:\n",
    "            print(f\"Error loading {file_name}: {e}\")\n",
    "\n",
    "combined_df = pd.concat(all_dfs, ignore_index=True)\n",
    "print(f\"Combined dataset size: {len(combined_df)} rows\")"
   ]
  },
  {
   "cell_type": "code",
   "execution_count": 38,
   "id": "404f4f74",
   "metadata": {},
   "outputs": [
    {
     "data": {
      "text/html": [
       "<div>\n",
       "<style scoped>\n",
       "    .dataframe tbody tr th:only-of-type {\n",
       "        vertical-align: middle;\n",
       "    }\n",
       "\n",
       "    .dataframe tbody tr th {\n",
       "        vertical-align: top;\n",
       "    }\n",
       "\n",
       "    .dataframe thead th {\n",
       "        text-align: right;\n",
       "    }\n",
       "</style>\n",
       "<table border=\"1\" class=\"dataframe\">\n",
       "  <thead>\n",
       "    <tr style=\"text-align: right;\">\n",
       "      <th></th>\n",
       "      <th>Text</th>\n",
       "    </tr>\n",
       "  </thead>\n",
       "  <tbody>\n",
       "    <tr>\n",
       "      <th>0</th>\n",
       "      <td>@PastorAlexLove Thank you, pastor. My mouth sh...</td>\n",
       "    </tr>\n",
       "    <tr>\n",
       "      <th>1</th>\n",
       "      <td>So horny right now, sending pics of my thick h...</td>\n",
       "    </tr>\n",
       "    <tr>\n",
       "      <th>2</th>\n",
       "      <td>😋  I will be quiet cause she already know.</td>\n",
       "    </tr>\n",
       "    <tr>\n",
       "      <th>3</th>\n",
       "      <td>tonights supper is fake bake and chips. tomorr...</td>\n",
       "    </tr>\n",
       "    <tr>\n",
       "      <th>4</th>\n",
       "      <td>Bout to make my linguini 😋</td>\n",
       "    </tr>\n",
       "  </tbody>\n",
       "</table>\n",
       "</div>"
      ],
      "text/plain": [
       "                                                Text\n",
       "0  @PastorAlexLove Thank you, pastor. My mouth sh...\n",
       "1  So horny right now, sending pics of my thick h...\n",
       "2         😋  I will be quiet cause she already know.\n",
       "3  tonights supper is fake bake and chips. tomorr...\n",
       "4                         Bout to make my linguini 😋"
      ]
     },
     "execution_count": 38,
     "metadata": {},
     "output_type": "execute_result"
    }
   ],
   "source": [
    "combined_df.head()"
   ]
  },
  {
   "cell_type": "code",
   "execution_count": 39,
   "id": "cad736d7",
   "metadata": {},
   "outputs": [],
   "source": [
    "combined_df.to_csv(\"combined_dataset.csv\", index=False)"
   ]
  },
  {
   "cell_type": "markdown",
   "id": "1bfeb3cc",
   "metadata": {},
   "source": [
    "## 2. Load dataset and filter rows with emojis"
   ]
  },
  {
   "cell_type": "code",
   "execution_count": 2,
   "id": "bba9b9ba",
   "metadata": {},
   "outputs": [],
   "source": [
    "# Function to remove emojis\n",
    "def remove_emoji(text):\n",
    "    return emoji.replace_emoji(text, replace='')  # Replace emojis with empty string\n",
    "\n",
    "# Function to generate embeddings\n",
    "def get_embedding(text):\n",
    "    return model.encode([text])[0]"
   ]
  },
  {
   "cell_type": "code",
   "execution_count": 3,
   "id": "8b7d9710",
   "metadata": {},
   "outputs": [
    {
     "name": "stderr",
     "output_type": "stream",
     "text": [
      "No sentence-transformers model found with name SamLowe/roberta-base-go_emotions. Creating a new one with mean pooling.\n",
      "Some weights of RobertaModel were not initialized from the model checkpoint at SamLowe/roberta-base-go_emotions and are newly initialized: ['roberta.pooler.dense.bias', 'roberta.pooler.dense.weight']\n",
      "You should probably TRAIN this model on a down-stream task to be able to use it for predictions and inference.\n"
     ]
    }
   ],
   "source": [
    "# Loading the model\n",
    "model = SentenceTransformer('SamLowe/roberta-base-go_emotions')"
   ]
  },
  {
   "cell_type": "code",
   "execution_count": 4,
   "id": "0824227e",
   "metadata": {},
   "outputs": [],
   "source": [
    "# Load the dataset\n",
    "df = pd.read_csv('combined_dataset.csv')"
   ]
  },
  {
   "cell_type": "code",
   "execution_count": 5,
   "id": "ffb28ecb",
   "metadata": {},
   "outputs": [],
   "source": [
    "# Filter if text contains emoji\n",
    "df['has_emoji'] = df['Text'].apply(lambda x: bool(emoji.emoji_count(str(x))))\n",
    "emoji_rich_df = df[df['has_emoji']].copy()"
   ]
  },
  {
   "cell_type": "code",
   "execution_count": 6,
   "id": "72c9fc48",
   "metadata": {},
   "outputs": [
    {
     "data": {
      "text/plain": [
       "0    @PastorAlexLove Thank you, pastor. My mouth sh...\n",
       "1    So horny right now, sending pics of my thick h...\n",
       "2           😋  I will be quiet cause she already know.\n",
       "3    tonights supper is fake bake and chips. tomorr...\n",
       "4                           Bout to make my linguini 😋\n",
       "Name: Text, dtype: object"
      ]
     },
     "execution_count": 6,
     "metadata": {},
     "output_type": "execute_result"
    }
   ],
   "source": [
    "emoji_rich_df['Text'].head()"
   ]
  },
  {
   "cell_type": "code",
   "execution_count": 7,
   "id": "a567779b",
   "metadata": {},
   "outputs": [],
   "source": [
    "# Select a subset\n",
    "df_subset = emoji_rich_df.sample(n=100, random_state=42).reset_index(drop=True)"
   ]
  },
  {
   "cell_type": "code",
   "execution_count": 8,
   "id": "cc2b2c69",
   "metadata": {},
   "outputs": [
    {
     "data": {
      "text/html": [
       "<div>\n",
       "<style scoped>\n",
       "    .dataframe tbody tr th:only-of-type {\n",
       "        vertical-align: middle;\n",
       "    }\n",
       "\n",
       "    .dataframe tbody tr th {\n",
       "        vertical-align: top;\n",
       "    }\n",
       "\n",
       "    .dataframe thead th {\n",
       "        text-align: right;\n",
       "    }\n",
       "</style>\n",
       "<table border=\"1\" class=\"dataframe\">\n",
       "  <thead>\n",
       "    <tr style=\"text-align: right;\">\n",
       "      <th></th>\n",
       "      <th>Text</th>\n",
       "      <th>has_emoji</th>\n",
       "    </tr>\n",
       "  </thead>\n",
       "  <tbody>\n",
       "    <tr>\n",
       "      <th>0</th>\n",
       "      <td>@vini_ball Nah that was Cold ngl 😭💀</td>\n",
       "      <td>True</td>\n",
       "    </tr>\n",
       "    <tr>\n",
       "      <th>1</th>\n",
       "      <td>@PStyle0ne1 give out of yours 🖕🤦 peacemaker</td>\n",
       "      <td>True</td>\n",
       "    </tr>\n",
       "    <tr>\n",
       "      <th>2</th>\n",
       "      <td>Y’all ever went met some of y’all friends peop...</td>\n",
       "      <td>True</td>\n",
       "    </tr>\n",
       "    <tr>\n",
       "      <th>3</th>\n",
       "      <td>🐳 WHALE TRADE ALERT (CEX) \\n\\n4 $BTC has been ...</td>\n",
       "      <td>True</td>\n",
       "    </tr>\n",
       "    <tr>\n",
       "      <th>4</th>\n",
       "      <td>My thighs still hurt from doing 3 sets of 10 d...</td>\n",
       "      <td>True</td>\n",
       "    </tr>\n",
       "  </tbody>\n",
       "</table>\n",
       "</div>"
      ],
      "text/plain": [
       "                                                Text  has_emoji\n",
       "0                @vini_ball Nah that was Cold ngl 😭💀       True\n",
       "1        @PStyle0ne1 give out of yours 🖕🤦 peacemaker       True\n",
       "2  Y’all ever went met some of y’all friends peop...       True\n",
       "3  🐳 WHALE TRADE ALERT (CEX) \\n\\n4 $BTC has been ...       True\n",
       "4  My thighs still hurt from doing 3 sets of 10 d...       True"
      ]
     },
     "execution_count": 8,
     "metadata": {},
     "output_type": "execute_result"
    }
   ],
   "source": [
    "df_subset.head()"
   ]
  },
  {
   "cell_type": "markdown",
   "id": "d75302b4",
   "metadata": {},
   "source": [
    "## 3. Create Faiss index"
   ]
  },
  {
   "cell_type": "code",
   "execution_count": 9,
   "id": "7f50c337",
   "metadata": {},
   "outputs": [],
   "source": [
    "# Load quotes embeddings\n",
    "quotes_df = pd.read_csv('selected_quotes_embeddings.csv')"
   ]
  },
  {
   "cell_type": "code",
   "execution_count": 10,
   "id": "3cef70cc",
   "metadata": {},
   "outputs": [],
   "source": [
    "# Function to safely parse embeddings\n",
    "def parse_embedding(emb):\n",
    "    try:\n",
    "        if isinstance(emb, str):\n",
    "            return np.array(eval(emb), dtype=np.float32)\n",
    "        return np.array(emb, dtype=np.float32)\n",
    "    except Exception as e:\n",
    "        print(f\"Error parsing embedding: {e}\")\n",
    "        return None"
   ]
  },
  {
   "cell_type": "code",
   "execution_count": 11,
   "id": "acc8815d",
   "metadata": {},
   "outputs": [],
   "source": [
    "# Create Faiss index for efficient similarity search\n",
    "index = faiss.IndexFlatIP(768)  # Inner Product (cosine similarity)"
   ]
  },
  {
   "cell_type": "code",
   "execution_count": 12,
   "id": "89419d65",
   "metadata": {},
   "outputs": [
    {
     "name": "stdout",
     "output_type": "stream",
     "text": [
      "Processed chunk 1/11\n",
      "Processed chunk 2/11\n",
      "Processed chunk 3/11\n",
      "Processed chunk 4/11\n",
      "Processed chunk 5/11\n",
      "Processed chunk 6/11\n",
      "Processed chunk 7/11\n",
      "Processed chunk 8/11\n",
      "Processed chunk 9/11\n",
      "Processed chunk 10/11\n",
      "Processed chunk 11/11\n"
     ]
    }
   ],
   "source": [
    "for i in range(0, len(quotes_df), 10000):\n",
    "    chunk = quotes_df.iloc[i:i + 10000]\n",
    "    chunk_embeddings = [parse_embedding(emb) for emb in chunk['embeddings']]\n",
    "    # Only keep valid embeddings\n",
    "    chunk_embeddings = [emb for emb in chunk_embeddings if emb is not None and emb.shape == (768,)]\n",
    "    if chunk_embeddings:\n",
    "        chunk_array = np.vstack(chunk_embeddings)  # Combine only valid embeddings\n",
    "        faiss.normalize_L2(chunk_array)  # Normalize for cosine similarity search\n",
    "        index.add(chunk_array)  # Add to index\n",
    "    print(f\"Processed chunk {i // 10000 + 1}/{len(quotes_df) // 10000 + 1}\")"
   ]
  },
  {
   "cell_type": "code",
   "execution_count": 13,
   "id": "4c341bda",
   "metadata": {},
   "outputs": [],
   "source": [
    "# Function to search top-k similar quotes\n",
    "def search_similar_quotes(query_embedding, k=5):\n",
    "    faiss.normalize_L2(query_embedding.reshape(1, -1))\n",
    "    distances, indices = index.search(query_embedding.reshape(1, -1), k)\n",
    "    return distances[0], indices[0]"
   ]
  },
  {
   "cell_type": "markdown",
   "id": "d09a5ffb",
   "metadata": {},
   "source": [
    "## 4. Evaluation"
   ]
  },
  {
   "cell_type": "code",
   "execution_count": 16,
   "id": "64740008",
   "metadata": {},
   "outputs": [],
   "source": [
    "# Evaluate impact of emojis\n",
    "results = []\n",
    "for idx, row in df_subset.iterrows():\n",
    "    input_text = row['Text']\n",
    "    \n",
    "    # Emojis Removed\n",
    "    clean_text = remove_emoji(input_text)\n",
    "    clean_embedding = get_embedding(clean_text)\n",
    "    clean_distances, clean_indices = search_similar_quotes(clean_embedding)\n",
    "    clean_avg_similarity = np.mean(clean_distances)\n",
    "    clean_quotes = [quotes_df.iloc[idx]['quote'] for idx in clean_indices]\n",
    "\n",
    "    \n",
    "    results.append({\n",
    "        'text': input_text,\n",
    "        'clean_avg_similarity': clean_avg_similarity,\n",
    "        'clean_quotes': clean_quotes\n",
    "    })"
   ]
  },
  {
   "cell_type": "code",
   "execution_count": 22,
   "id": "b111a435",
   "metadata": {},
   "outputs": [
    {
     "name": "stdout",
     "output_type": "stream",
     "text": [
      "\n",
      "=== Detailed Results ===\n",
      "\n",
      "Query 1: @vini_ball Nah that was Cold ngl 😭💀\n",
      "Average Cosine Similarity (Emojis Removed): 0.9799\n",
      "\n",
      "Top-K Quotes (Emojis Removed):\n",
      "+----+---------------------------------------+------------------------+-----------------------------------------------------------------+\n",
      "|    | text                                  |   clean_avg_similarity | clean_quotes                                                    |\n",
      "|----+---------------------------------------+------------------------+-----------------------------------------------------------------|\n",
      "|  0 | @vini_ball Nah that was Cold ngl 😭💀 |                 0.9799 | [C]apitalism--democracy's sidekick                              |\n",
      "|  1 | @vini_ball Nah that was Cold ngl 😭💀 |                 0.9799 | Rencana Allah selalu indah...                                   |\n",
      "|  2 | @vini_ball Nah that was Cold ngl 😭💀 |                 0.9799 | Booty Butt, Booty Butt, Booty Butt Cheeks                       |\n",
      "|  3 | @vini_ball Nah that was Cold ngl 😭💀 |                 0.9799 | Eye Amost Evr Spel Ah Werd Wong Annymoe, sinc eye goat alto pel |\n",
      "|  4 | @vini_ball Nah that was Cold ngl 😭💀 |                 0.9799 | Over the top sex —Actionjackson                                 |\n",
      "+----+---------------------------------------+------------------------+-----------------------------------------------------------------+\n",
      "\n",
      "Query 2: @PStyle0ne1 give out of yours 🖕🤦 peacemaker\n",
      "Average Cosine Similarity (Emojis Removed): 0.9861\n",
      "\n",
      "Top-K Quotes (Emojis Removed):\n",
      "+----+-----------------------------------------------+------------------------+------------------------------------------------------+\n",
      "|    | text                                          |   clean_avg_similarity | clean_quotes                                         |\n",
      "|----+-----------------------------------------------+------------------------+------------------------------------------------------|\n",
      "|  0 | @PStyle0ne1 give out of yours 🖕🤦 peacemaker |                 0.9861 | G - God’sR - RedemptionA - AtC - Christ’sE - Expense |\n",
      "|  1 | @PStyle0ne1 give out of yours 🖕🤦 peacemaker |                 0.9861 | Dot dash dotClouds in the skyMorris code             |\n",
      "|  2 | @PStyle0ne1 give out of yours 🖕🤦 peacemaker |                 0.9861 | ...look with-in (Jesus)                              |\n",
      "|  3 | @PStyle0ne1 give out of yours 🖕🤦 peacemaker |                 0.9861 | rip the prisonsopenput theconvictsontelevision       |\n",
      "|  4 | @PStyle0ne1 give out of yours 🖕🤦 peacemaker |                 0.9861 | Booty Butt, Booty Butt, Booty Butt Cheeks            |\n",
      "+----+-----------------------------------------------+------------------------+------------------------------------------------------+\n",
      "\n",
      "Query 3: Y’all ever went met some of y’all friends people and they had a cousin that acts &amp; talks JUST like yours? 😂\n",
      "Average Cosine Similarity (Emojis Removed): 0.9408\n",
      "\n",
      "Top-K Quotes (Emojis Removed):\n",
      "+----+------------------------------------------------------------------------------------------------------------------+------------------------+------------------------------------------------------------------+\n",
      "|    | text                                                                                                             |   clean_avg_similarity | clean_quotes                                                     |\n",
      "|----+------------------------------------------------------------------------------------------------------------------+------------------------+------------------------------------------------------------------|\n",
      "|  0 | Y’all ever went met some of y’all friends people and they had a cousin that acts &amp; talks JUST like yours? 😂 |                 0.9408 | Will there be cheese?\" asked Chisolm.                            |\n",
      "|  1 | Y’all ever went met some of y’all friends people and they had a cousin that acts &amp; talks JUST like yours? 😂 |                 0.9408 | Vell, Zaphod’s just zis guy, you know?                           |\n",
      "|  2 | Y’all ever went met some of y’all friends people and they had a cousin that acts &amp; talks JUST like yours? 😂 |                 0.9408 | He had taken to asking himself WWPD? (What Would Pia Do?)        |\n",
      "|  3 | Y’all ever went met some of y’all friends people and they had a cousin that acts &amp; talks JUST like yours? 😂 |                 0.9408 | He sure told you off, huh, Icy?\" ~Darcy                          |\n",
      "|  4 | Y’all ever went met some of y’all friends people and they had a cousin that acts &amp; talks JUST like yours? 😂 |                 0.9408 | A spy novel?” Dagmar asked. “You two are talking about a spy nov |\n",
      "+----+------------------------------------------------------------------------------------------------------------------+------------------------+------------------------------------------------------------------+\n",
      "\n",
      "Query 4: 🐳 WHALE TRADE ALERT (CEX) \n",
      "\n",
      "4 $BTC has been Sold for $114,530 using $USDT on BYBIT.\n",
      "    \n",
      "✅ All 🐳 Trades Link In BIO\n",
      "    \n",
      "#BTC #USDT  #BYBIT #WHALETRACER\n",
      "Average Cosine Similarity (Emojis Removed): 0.9669\n",
      "\n",
      "Top-K Quotes (Emojis Removed):\n",
      "+----+---------------------------------------------------------+------------------------+----------------------------------------------------------------+\n",
      "|    | text                                                    |   clean_avg_similarity | clean_quotes                                                   |\n",
      "|----+---------------------------------------------------------+------------------------+----------------------------------------------------------------|\n",
      "|  0 | 🐳 WHALE TRADE ALERT (CEX)                              |                 0.9669 | MakeNew FrNdS But Keep D oLd , One iS silVerThe Other is Gold. |\n",
      "|    |                                                         |                        |                                                                |\n",
      "|    | 4 $BTC has been Sold for $114,530 using $USDT on BYBIT. |                        |                                                                |\n",
      "|    |                                                         |                        |                                                                |\n",
      "|    | ✅ All 🐳 Trades Link In BIO                            |                        |                                                                |\n",
      "|    |                                                         |                        |                                                                |\n",
      "|    | #BTC #USDT  #BYBIT #WHALETRACER                         |                        |                                                                |\n",
      "|  1 | 🐳 WHALE TRADE ALERT (CEX)                              |                 0.9669 | When coming to sex: First served, first come.                  |\n",
      "|    |                                                         |                        |                                                                |\n",
      "|    | 4 $BTC has been Sold for $114,530 using $USDT on BYBIT. |                        |                                                                |\n",
      "|    |                                                         |                        |                                                                |\n",
      "|    | ✅ All 🐳 Trades Link In BIO                            |                        |                                                                |\n",
      "|    |                                                         |                        |                                                                |\n",
      "|    | #BTC #USDT  #BYBIT #WHALETRACER                         |                        |                                                                |\n",
      "|  2 | 🐳 WHALE TRADE ALERT (CEX)                              |                 0.9669 | Gossipmongers = Toxic Hearts Toxic Hearts = Bigot Souls        |\n",
      "|    |                                                         |                        |                                                                |\n",
      "|    | 4 $BTC has been Sold for $114,530 using $USDT on BYBIT. |                        |                                                                |\n",
      "|    |                                                         |                        |                                                                |\n",
      "|    | ✅ All 🐳 Trades Link In BIO                            |                        |                                                                |\n",
      "|    |                                                         |                        |                                                                |\n",
      "|    | #BTC #USDT  #BYBIT #WHALETRACER                         |                        |                                                                |\n",
      "|  3 | 🐳 WHALE TRADE ALERT (CEX)                              |                 0.9669 | Silence Has A Sound....                                        |\n",
      "|    |                                                         |                        |                                                                |\n",
      "|    | 4 $BTC has been Sold for $114,530 using $USDT on BYBIT. |                        |                                                                |\n",
      "|    |                                                         |                        |                                                                |\n",
      "|    | ✅ All 🐳 Trades Link In BIO                            |                        |                                                                |\n",
      "|    |                                                         |                        |                                                                |\n",
      "|    | #BTC #USDT  #BYBIT #WHALETRACER                         |                        |                                                                |\n",
      "|  4 | 🐳 WHALE TRADE ALERT (CEX)                              |                 0.9669 | Secret  and self-contained  and solitary as an oyster.         |\n",
      "|    |                                                         |                        |                                                                |\n",
      "|    | 4 $BTC has been Sold for $114,530 using $USDT on BYBIT. |                        |                                                                |\n",
      "|    |                                                         |                        |                                                                |\n",
      "|    | ✅ All 🐳 Trades Link In BIO                            |                        |                                                                |\n",
      "|    |                                                         |                        |                                                                |\n",
      "|    | #BTC #USDT  #BYBIT #WHALETRACER                         |                        |                                                                |\n",
      "+----+---------------------------------------------------------+------------------------+----------------------------------------------------------------+\n",
      "\n",
      "Query 5: My thighs still hurt from doing 3 sets of 10 dumbbell lunges… which means I did 30 of them… 😖🥲\n",
      "Average Cosine Similarity (Emojis Removed): 0.9153\n",
      "\n",
      "Top-K Quotes (Emojis Removed):\n",
      "+----+--------------------------------------------------------------------------------------------------+------------------------+-----------------------------------------------------+\n",
      "|    | text                                                                                             |   clean_avg_similarity | clean_quotes                                        |\n",
      "|----+--------------------------------------------------------------------------------------------------+------------------------+-----------------------------------------------------|\n",
      "|  0 | My thighs still hurt from doing 3 sets of 10 dumbbell lunges… which means I did 30 of them… 😖🥲 |                 0.9153 | Pain is weakness leaving the body                   |\n",
      "|  1 | My thighs still hurt from doing 3 sets of 10 dumbbell lunges… which means I did 30 of them… 😖🥲 |                 0.9153 | Seven days without prayer makes one weak.           |\n",
      "|  2 | My thighs still hurt from doing 3 sets of 10 dumbbell lunges… which means I did 30 of them… 😖🥲 |                 0.9153 | The excess of pleasure is pain                      |\n",
      "|  3 | My thighs still hurt from doing 3 sets of 10 dumbbell lunges… which means I did 30 of them… 😖🥲 |                 0.9153 | I am somewhat exhausted                             |\n",
      "|  4 | My thighs still hurt from doing 3 sets of 10 dumbbell lunges… which means I did 30 of them… 😖🥲 |                 0.9153 | Awakening of consciousness originated from \"pain\".. |\n",
      "+----+--------------------------------------------------------------------------------------------------+------------------------+-----------------------------------------------------+\n",
      "\n",
      "Query 6: @sktsluvs man fuck easter 😭 aint nobody give a damn bout that bunny\n",
      "Average Cosine Similarity (Emojis Removed): 0.9443\n",
      "\n",
      "Top-K Quotes (Emojis Removed):\n",
      "+----+----------------------------------------------------------------------+------------------------+-----------------------------------------------------------+\n",
      "|    | text                                                                 |   clean_avg_similarity | clean_quotes                                              |\n",
      "|----+----------------------------------------------------------------------+------------------------+-----------------------------------------------------------|\n",
      "|  0 | @sktsluvs man fuck easter 😭 aint nobody give a damn bout that bunny |                 0.9443 | Instead of playing Draw Something, fucking draw something |\n",
      "|  1 | @sktsluvs man fuck easter 😭 aint nobody give a damn bout that bunny |                 0.9443 | We bring the fucking rain Q, not the scattered showers.   |\n",
      "|  2 | @sktsluvs man fuck easter 😭 aint nobody give a damn bout that bunny |                 0.9443 | Da shit you say!                                          |\n",
      "|  3 | @sktsluvs man fuck easter 😭 aint nobody give a damn bout that bunny |                 0.9443 | No one wants to fuck Chewbacca                            |\n",
      "|  4 | @sktsluvs man fuck easter 😭 aint nobody give a damn bout that bunny |                 0.9443 | Half demon, half human, wholly f*cked.\" ~ Muse            |\n",
      "+----+----------------------------------------------------------------------+------------------------+-----------------------------------------------------------+\n",
      "\n",
      "Query 7: @ver_sachi_ Stop right there I'm suing you for being nice to me. 😤\n",
      "Average Cosine Similarity (Emojis Removed): 0.7995\n",
      "\n",
      "Top-K Quotes (Emojis Removed):\n",
      "+----+---------------------------------------------------------------------+------------------------+-------------------------------------------------------------------+\n",
      "|    | text                                                                |   clean_avg_similarity | clean_quotes                                                      |\n",
      "|----+---------------------------------------------------------------------+------------------------+-------------------------------------------------------------------|\n",
      "|  0 | @ver_sachi_ Stop right there I'm suing you for being nice to me. 😤 |                 0.7995 | Caro: \"Bite me.\"Ruby: \"I gave that up in kindergarten.            |\n",
      "|  1 | @ver_sachi_ Stop right there I'm suing you for being nice to me. 😤 |                 0.7995 | Bite me, Harry Potter.                                            |\n",
      "|  2 | @ver_sachi_ Stop right there I'm suing you for being nice to me. 😤 |                 0.7995 | Hug your customers but also offer handshake to your competitors.  |\n",
      "|  3 | @ver_sachi_ Stop right there I'm suing you for being nice to me. 😤 |                 0.7995 | Bite me.\" -Lieutenant Eve Dallas, from any of the In Death books. |\n",
      "|  4 | @ver_sachi_ Stop right there I'm suing you for being nice to me. 😤 |                 0.7995 | I charge thee, fling away ambition. By that sin fell the angels.  |\n",
      "+----+---------------------------------------------------------------------+------------------------+-------------------------------------------------------------------+\n",
      "\n",
      "Query 8: @SincereEdwards0 Buddy called it before it started too 😤😤😤\n",
      "Average Cosine Similarity (Emojis Removed): 0.9713\n",
      "\n",
      "Top-K Quotes (Emojis Removed):\n",
      "+----+---------------------------------------------------------------+------------------------+-------------------------------------------------------+\n",
      "|    | text                                                          |   clean_avg_similarity | clean_quotes                                          |\n",
      "|----+---------------------------------------------------------------+------------------------+-------------------------------------------------------|\n",
      "|  0 | @SincereEdwards0 Buddy called it before it started too 😤😤😤 |                 0.9713 | The price on money is life                            |\n",
      "|  1 | @SincereEdwards0 Buddy called it before it started too 😤😤😤 |                 0.9713 | The Foundation of Freedom is Unity                    |\n",
      "|  2 | @SincereEdwards0 Buddy called it before it started too 😤😤😤 |                 0.9713 | the elephant can remember.                            |\n",
      "|  3 | @SincereEdwards0 Buddy called it before it started too 😤😤😤 |                 0.9713 | A timesheet is the budget of time management          |\n",
      "|  4 | @SincereEdwards0 Buddy called it before it started too 😤😤😤 |                 0.9713 | West Point—The Key to the Continent and Independence. |\n",
      "+----+---------------------------------------------------------------+------------------------+-------------------------------------------------------+\n",
      "\n",
      "Query 9: I wonder if track 9 is the third mv we're getting🤔\n",
      "Average Cosine Similarity (Emojis Removed): 0.9546\n",
      "\n",
      "Top-K Quotes (Emojis Removed):\n",
      "+----+-----------------------------------------------------+------------------------+--------------------------------------------------------------------+\n",
      "|    | text                                                |   clean_avg_similarity | clean_quotes                                                       |\n",
      "|----+-----------------------------------------------------+------------------------+--------------------------------------------------------------------|\n",
      "|  0 | I wonder if track 9 is the third mv we're getting🤔 |                 0.9546 | Oh, I wonder if there's another way.                               |\n",
      "|  1 | I wonder if track 9 is the third mv we're getting🤔 |                 0.9546 | I'm always wondering about the what-ifs, about the road not taken. |\n",
      "|  2 | I wonder if track 9 is the third mv we're getting🤔 |                 0.9546 | I wonder if life is a fairy tale!                                  |\n",
      "|  3 | I wonder if track 9 is the third mv we're getting🤔 |                 0.9546 | I wonder, said the Lord I wonder if I know the answer any more.    |\n",
      "|  4 | I wonder if track 9 is the third mv we're getting🤔 |                 0.9546 | I was wondering how you got all that out of a single moooooo       |\n",
      "+----+-----------------------------------------------------+------------------------+--------------------------------------------------------------------+\n",
      "\n",
      "Query 10: @robmackx Gm mfer 🎮💛🌈\n",
      "Average Cosine Similarity (Emojis Removed): 0.9893\n",
      "\n",
      "Top-K Quotes (Emojis Removed):\n",
      "+----+--------------------------+------------------------+------------------------------------------------------+\n",
      "|    | text                     |   clean_avg_similarity | clean_quotes                                         |\n",
      "|----+--------------------------+------------------------+------------------------------------------------------|\n",
      "|  0 | @robmackx Gm mfer 🎮💛🌈 |                 0.9893 | Over the top sex —Actionjackson                      |\n",
      "|  1 | @robmackx Gm mfer 🎮💛🌈 |                 0.9893 | [C]apitalism--democracy's sidekick                   |\n",
      "|  2 | @robmackx Gm mfer 🎮💛🌈 |                 0.9893 | G - God’sR - RedemptionA - AtC - Christ’sE - Expense |\n",
      "|  3 | @robmackx Gm mfer 🎮💛🌈 |                 0.9893 | Pietrisycamollaviadelrechiotemexity.                 |\n",
      "|  4 | @robmackx Gm mfer 🎮💛🌈 |                 0.9893 | l(aleaffalls)oneliness                               |\n",
      "+----+--------------------------+------------------------+------------------------------------------------------+\n"
     ]
    }
   ],
   "source": [
    "# Pretty-print results for a few queries\n",
    "print(\"\\n=== Detailed Results ===\")\n",
    "for idx, res in enumerate(results[:10], 1):  # Show first 10 queries\n",
    "    print(f\"\\nQuery {idx}: {res['text']}\")\n",
    "    print(f\"Average Cosine Similarity (Emojis Removed): {res['clean_avg_similarity']:.4f}\")\n",
    "    \n",
    "    clean_table = pd.DataFrame(res)\n",
    "    \n",
    "    print(\"\\nTop-K Quotes (Emojis Removed):\")\n",
    "    print(tabulate(clean_table, headers='keys', tablefmt='psql', showindex=True, floatfmt='.4f'))"
   ]
  },
  {
   "cell_type": "markdown",
   "id": "32ff7a48",
   "metadata": {},
   "source": [
    "## Results analysis\n",
    "\n",
    "The results show that removing emojis from input texts yields high cosine similarities (0.7995–0.9893) when matching quotes from the Quotes-500K database, indicating strong syntactic similarity. However, the retrieved quotes often lack relevance in meaning or emotion. For instance, \"@vini_ball Nah that was Cold ngl 😭💀\" (similarity 0.9799) returns \"Capitalism--democracy's sidekick,\" missing the original’s informal, emotional tone. Removing emojis reduces noise but strips emotional context, as emojis like 😭 and 💀 convey key nuances. To improve, consider retaining emojis, converting them to text (e.g., via emoji.demojize), or using emoji-aware models like emojinal. Relevance could be better assessed with metrics like Precision@K or MRR on a labeled validation set."
   ]
  }
 ],
 "metadata": {
  "kernelspec": {
   "display_name": "Python 3",
   "language": "python",
   "name": "python3"
  },
  "language_info": {
   "codemirror_mode": {
    "name": "ipython",
    "version": 3
   },
   "file_extension": ".py",
   "mimetype": "text/x-python",
   "name": "python",
   "nbconvert_exporter": "python",
   "pygments_lexer": "ipython3",
   "version": "3.12.5"
  }
 },
 "nbformat": 4,
 "nbformat_minor": 5
}
