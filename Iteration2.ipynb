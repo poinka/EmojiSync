{
 "cells": [
  {
   "cell_type": "markdown",
   "id": "a3a676c2",
   "metadata": {},
   "source": [
    "# 2nd Iteration\n",
    "\n",
    "For this time we will use `emoji.demojize` to create text description from emoji text. The main purpose of this part is to evaluate is it enough to use this simple tool to capture emotional richness of emoji text."
   ]
  },
  {
   "cell_type": "markdown",
   "id": "a75ad9e6",
   "metadata": {},
   "source": []
  }
 ],
 "metadata": {
  "language_info": {
   "name": "python"
  }
 },
 "nbformat": 4,
 "nbformat_minor": 5
}
