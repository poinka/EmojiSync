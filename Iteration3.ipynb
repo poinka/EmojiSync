{
 "cells": [
  {
   "cell_type": "markdown",
   "id": "fcced9fc",
   "metadata": {},
   "source": [
    "# 3rd Iteration\n",
    "\n",
    "Here we will try to use `emoji2vec` embedding technique."
   ]
  },
  {
   "cell_type": "markdown",
   "id": "0d32bed5",
   "metadata": {},
   "source": []
  }
 ],
 "metadata": {
  "language_info": {
   "name": "python"
  }
 },
 "nbformat": 4,
 "nbformat_minor": 5
}
