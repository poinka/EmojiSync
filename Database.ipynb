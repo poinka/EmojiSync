{
 "cells": [
  {
   "cell_type": "markdown",
   "id": "5acaa427",
   "metadata": {},
   "source": [
    "# Database creation & Embedding generation\n",
    "\n",
    "Here, we will create vector database with emotionally rich text without emojis, so we can chow it to user when he/she inputs emoji text.\n",
    "\n",
    "Main steps:\n",
    "1. Choose dataset (~50000 objects)\n",
    "2. Choose model to create embeddings from dataset\n",
    "3. Choose vector database/storage\n",
    "4. Choose indexing algorithm"
   ]
  },
  {
   "cell_type": "markdown",
   "id": "c310e1fb",
   "metadata": {},
   "source": []
  }
 ],
 "metadata": {
  "language_info": {
   "name": "python"
  }
 },
 "nbformat": 4,
 "nbformat_minor": 5
}
