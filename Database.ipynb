{
 "cells": [
  {
   "cell_type": "markdown",
   "id": "5acaa427",
   "metadata": {},
   "source": [
    "# Database creation & Embedding generation\n",
    "\n",
    "Here, we will create vector database with emotionally rich text without emojis, so we can chow it to user when he/she inputs emoji text.\n",
    "\n",
    "Main steps:\n",
    "1. Choose dataset (~50000 objects)\n",
    "2. Choose model to create embeddings from dataset\n",
    "3. Choose vector database/storage\n",
    "4. Choose indexing algorithm"
   ]
  },
  {
   "cell_type": "markdown",
   "id": "9ee37eeb",
   "metadata": {},
   "source": [
    "## Dataset\n",
    "Chosen dataset is **Quotes-500K** which contains ~500000 quotes with different tags including love, life, philosophy, motivation, family, etc. These tags will help to evaluate whether selected quote is relevant to the input or not"
   ]
  },
  {
   "cell_type": "code",
   "execution_count": 2,
   "id": "12bb4d77",
   "metadata": {},
   "outputs": [],
   "source": [
    "import pandas as pd\n",
    "\n",
    "df = pd.read_csv('quotes.csv')"
   ]
  },
  {
   "cell_type": "code",
   "execution_count": 10,
   "id": "bbbe7336",
   "metadata": {},
   "outputs": [
    {
     "name": "stdout",
     "output_type": "stream",
     "text": [
      "(499709, 3)\n"
     ]
    },
    {
     "data": {
      "text/html": [
       "<div>\n",
       "<style scoped>\n",
       "    .dataframe tbody tr th:only-of-type {\n",
       "        vertical-align: middle;\n",
       "    }\n",
       "\n",
       "    .dataframe tbody tr th {\n",
       "        vertical-align: top;\n",
       "    }\n",
       "\n",
       "    .dataframe thead th {\n",
       "        text-align: right;\n",
       "    }\n",
       "</style>\n",
       "<table border=\"1\" class=\"dataframe\">\n",
       "  <thead>\n",
       "    <tr style=\"text-align: right;\">\n",
       "      <th></th>\n",
       "      <th>quote</th>\n",
       "      <th>author</th>\n",
       "      <th>category</th>\n",
       "    </tr>\n",
       "  </thead>\n",
       "  <tbody>\n",
       "    <tr>\n",
       "      <th>0</th>\n",
       "      <td>I'm selfish, impatient and a little insecure. ...</td>\n",
       "      <td>Marilyn Monroe</td>\n",
       "      <td>attributed-no-source, best, life, love, mistak...</td>\n",
       "    </tr>\n",
       "    <tr>\n",
       "      <th>1</th>\n",
       "      <td>You've gotta dance like there's nobody watchin...</td>\n",
       "      <td>William W. Purkey</td>\n",
       "      <td>dance, heaven, hurt, inspirational, life, love...</td>\n",
       "    </tr>\n",
       "    <tr>\n",
       "      <th>2</th>\n",
       "      <td>You know you're in love when you can't fall as...</td>\n",
       "      <td>Dr. Seuss</td>\n",
       "      <td>attributed-no-source, dreams, love, reality, s...</td>\n",
       "    </tr>\n",
       "    <tr>\n",
       "      <th>3</th>\n",
       "      <td>A friend is someone who knows all about you an...</td>\n",
       "      <td>Elbert Hubbard</td>\n",
       "      <td>friend, friendship, knowledge, love</td>\n",
       "    </tr>\n",
       "    <tr>\n",
       "      <th>4</th>\n",
       "      <td>Darkness cannot drive out darkness: only light...</td>\n",
       "      <td>Martin Luther King Jr., A Testament of Hope: T...</td>\n",
       "      <td>darkness, drive-out, hate, inspirational, ligh...</td>\n",
       "    </tr>\n",
       "  </tbody>\n",
       "</table>\n",
       "</div>"
      ],
      "text/plain": [
       "                                               quote  \\\n",
       "0  I'm selfish, impatient and a little insecure. ...   \n",
       "1  You've gotta dance like there's nobody watchin...   \n",
       "2  You know you're in love when you can't fall as...   \n",
       "3  A friend is someone who knows all about you an...   \n",
       "4  Darkness cannot drive out darkness: only light...   \n",
       "\n",
       "                                              author  \\\n",
       "0                                     Marilyn Monroe   \n",
       "1                                  William W. Purkey   \n",
       "2                                          Dr. Seuss   \n",
       "3                                     Elbert Hubbard   \n",
       "4  Martin Luther King Jr., A Testament of Hope: T...   \n",
       "\n",
       "                                            category  \n",
       "0  attributed-no-source, best, life, love, mistak...  \n",
       "1  dance, heaven, hurt, inspirational, life, love...  \n",
       "2  attributed-no-source, dreams, love, reality, s...  \n",
       "3                friend, friendship, knowledge, love  \n",
       "4  darkness, drive-out, hate, inspirational, ligh...  "
      ]
     },
     "execution_count": 10,
     "metadata": {},
     "output_type": "execute_result"
    }
   ],
   "source": [
    "print(df.shape)\n",
    "df.head()"
   ]
  },
  {
   "cell_type": "markdown",
   "id": "9311acae",
   "metadata": {},
   "source": [
    "Since 500K is much more that we need, we select 100K shortest valuable quotes."
   ]
  },
  {
   "cell_type": "code",
   "execution_count": null,
   "id": "27d1f8ce",
   "metadata": {},
   "outputs": [
    {
     "name": "stdout",
     "output_type": "stream",
     "text": [
      "Number of quotes: 499708\n",
      "Minimal: 1 Maximal: I imagined my coffin being closed, and the screws being turned. I was immobile, but I was alive, and I wanted to tell my family that I was seeing everything. I wanted to tell them all that I loved them, but not a sound came out of my mouth. My father and mother were weeping, my wife and my friends were gathered around, but I was completely alone! With all of the people dear to me standing there, no one was able to see that I was alive and that I had not yet accomplished all that I wanted to do in this world. I tried desperately to open my eyes, to give a sign, to beat on the lid of the coffin. But I could not move any part of my body. I felt the coffin being carried toward the grave. I could hear the sound of the handles grinding against their fittings, the steps of those in the procession, and conversations from this side and that. Someone said that he had a date for dinner later on, and another observed that I had died early. The smell of flowers all around me began to suffocate me. I remembered how I had given up trying to establish a relationship with two or three women, fearing their rejection. I remembered also the number of times I had failed to do what I wanted to do, thinking I could always do it later. I felt very sorry for myself, not only because I was about to be buried alive but also because I had been afraid to live. Why be fearful of saying no to someone or of leaving something undone when the most important thing of all was to enjoy life fully? There I was, trapped in a coffin, and it was already too late to go back and show the courage I should have had. There I was, having played the role of my own Judas, having betrayed myself. There I was, powerless to move a muscle, screaming for help, while the others were involved in their lives, worrying about what they were going to do that night, admiring statues and buildings that I would never see again. I began to feel how unfair it was to have to be buried while others continued to live. I would have felt better if there had been a catastrophe and all of us had been in the same boat, heading for the same abyss toward which they were carrying me now. Help! I tried to cry out. I’m still alive. I haven’t died. My mind is still functioning! They placed my coffin at the edge of the grave. They are going to bury me! My wife is going to forget all about me; she will marry someone else and spend the money we have struggled to save for all these years! But who cares about that. I want to be with her now, because I’m alive! I hear sobs, and I feel tears falling from my eyes, too. If my friends were to open my coffin now, they would see my tears and save me. But instead all I feel is the lowering of the coffin into the ground. Suddenly, everything is dark. A moment ago, there was a ray of light at the edge of the coffin, but now the darkness is complete. The grave diggers’ shovels are filling in the grave, and I’m alive! Buried alive! I sense that the air is being cut off, and the fragrance of the flowers is awful. I hear the mourners’ departing footsteps. My terror is total. I’m not able to do anything; if they go away now, it will soon be night, and no one will hear me knocking on the lid of my coffin! The footsteps fade, nobody hears my screams, and I am alone in the darkness; the air is heavy, and the smell of the flowers is driving me crazy. Suddenly, I hear a sound. It’s the worms, coming to eat me alive. I try with all my strength to move the parts of my body, but I am inert. The worms begin to climb over my body. They are sticky and cold. They creep over my face and crawl into my shorts. One of them enters through my anus, and another begins to sneak into a nostril. Help! I’m being eaten alive, and nobody can hear me; nobody says a word to me. The worm that entered my nostril has reached my throat. I feel another invading my ear. I have to get out! Where is God; why doesn’t he help me? They are beginning to eat at my throat, and soon I won’t be able to scream! They\n",
      "Sorted quotes: ['Be firm.', 'GOD SAYS', \"IT'S ME!\", 'Research', 'Why not?', 'Home is ', 'Stand up', 'Be life.', 'One life', 'They grew', 'Be simple', 'Dream big', 'Be great.', 'Be great!', 'Try again', 'My prayer', 'Listening', 'As it is?', \"It's true\", 'Democracy', 'X-sacred.', 'Crap talk', 'Maguire?”', 'Christmas', 'IMBALANCE', 'Mark Twin', 'True love', 'No groom.', 'Write on!', 'The Dance', 'Ignorance', 'hypocrisy', 'I am here', 'Obsession', 'War sells!', 'Bitch you.', 'I am hope.', 'Stay wild.', 'I am not I', 'Do not say', 'Keep going', 'Be selfish', 'Don’t fear', 'Don’t rush', 'I wish you']\n"
     ]
    }
   ],
   "source": [
    "quotes = df['quote'].dropna()\n",
    "print(\"Number of quotes:\", len(quotes))\n",
    "print(\"Minimal:\", min(quotes, key=len), \"Maximal:\", max(quotes, key=len))\n",
    "print(\"Sorted quotes:\", sorted(quotes, key=len)[55:100]) # Since 55th quote there is smth more meaningful"
   ]
  },
  {
   "cell_type": "code",
   "execution_count": 21,
   "id": "baebe568",
   "metadata": {},
   "outputs": [],
   "source": [
    "# Final selected quotes\n",
    "selected_quotes = sorted(quotes, key=len)[55:100056]\n",
    "\n",
    "# Filter the original dataframe to keep only selected quotes\n",
    "selected_df = df[df['quote'].isin(selected_quotes)][['quote', 'author', 'category']]\n",
    "\n",
    "# Save to new CSV file\n",
    "selected_df.to_csv('selected_quotes.csv', index=False)"
   ]
  },
  {
   "cell_type": "markdown",
   "id": "371971c4",
   "metadata": {},
   "source": [
    "## Model\n",
    "\n",
    "`SamLowe/roberta-base-go_emotions` was chosen. This model, based on RoBERTa and fine-tuned on the GoEmotions dataset with 27 emotion categories, should better distinguish emotional tones, making it suitable for search tasks."
   ]
  },
  {
   "cell_type": "code",
   "execution_count": null,
   "id": "b4fde6c3",
   "metadata": {},
   "outputs": [
    {
     "name": "stderr",
     "output_type": "stream",
     "text": [
      "No sentence-transformers model found with name SamLowe/roberta-base-go_emotions. Creating a new one with mean pooling.\n"
     ]
    },
    {
     "data": {
      "application/vnd.jupyter.widget-view+json": {
       "model_id": "e32a7c2f69734ee8b38e641b9b71c151",
       "version_major": 2,
       "version_minor": 0
      },
      "text/plain": [
       "model.safetensors:   0%|          | 0.00/499M [00:00<?, ?B/s]"
      ]
     },
     "metadata": {},
     "output_type": "display_data"
    },
    {
     "name": "stderr",
     "output_type": "stream",
     "text": [
      "Some weights of RobertaModel were not initialized from the model checkpoint at SamLowe/roberta-base-go_emotions and are newly initialized: ['roberta.pooler.dense.bias', 'roberta.pooler.dense.weight']\n",
      "You should probably TRAIN this model on a down-stream task to be able to use it for predictions and inference.\n"
     ]
    },
    {
     "data": {
      "application/vnd.jupyter.widget-view+json": {
       "model_id": "d5e9eb02f2f64d2e8b20be80286122e4",
       "version_major": 2,
       "version_minor": 0
      },
      "text/plain": [
       "tokenizer_config.json:   0%|          | 0.00/380 [00:00<?, ?B/s]"
      ]
     },
     "metadata": {},
     "output_type": "display_data"
    },
    {
     "data": {
      "application/vnd.jupyter.widget-view+json": {
       "model_id": "47ad8326848a442bba538b37e7504008",
       "version_major": 2,
       "version_minor": 0
      },
      "text/plain": [
       "vocab.json:   0%|          | 0.00/798k [00:00<?, ?B/s]"
      ]
     },
     "metadata": {},
     "output_type": "display_data"
    },
    {
     "data": {
      "application/vnd.jupyter.widget-view+json": {
       "model_id": "c3e583bd1f0841e7bcfb0d78d045e769",
       "version_major": 2,
       "version_minor": 0
      },
      "text/plain": [
       "merges.txt:   0%|          | 0.00/456k [00:00<?, ?B/s]"
      ]
     },
     "metadata": {},
     "output_type": "display_data"
    },
    {
     "data": {
      "application/vnd.jupyter.widget-view+json": {
       "model_id": "5709ebfdf29a46ee9b4792afa01c8504",
       "version_major": 2,
       "version_minor": 0
      },
      "text/plain": [
       "tokenizer.json:   0%|          | 0.00/2.11M [00:00<?, ?B/s]"
      ]
     },
     "metadata": {},
     "output_type": "display_data"
    },
    {
     "data": {
      "application/vnd.jupyter.widget-view+json": {
       "model_id": "dfbf1b83bf0f4aa58f85b67140644e33",
       "version_major": 2,
       "version_minor": 0
      },
      "text/plain": [
       "special_tokens_map.json:   0%|          | 0.00/280 [00:00<?, ?B/s]"
      ]
     },
     "metadata": {},
     "output_type": "display_data"
    }
   ],
   "source": [
    "from sentence_transformers import SentenceTransformer\n",
    "model = SentenceTransformer('SamLowe/roberta-base-go_emotions') # Load the pre-trained model"
   ]
  },
  {
   "cell_type": "code",
   "execution_count": 24,
   "id": "1ceeeba1",
   "metadata": {},
   "outputs": [],
   "source": [
    "# Generate embeddings for the selected quotes\n",
    "selected_df['embeddings'] = selected_df['quote'].apply(lambda x: model.encode(x).tolist())"
   ]
  },
  {
   "cell_type": "code",
   "execution_count": 25,
   "id": "4d9f8692",
   "metadata": {},
   "outputs": [
    {
     "data": {
      "text/html": [
       "<div>\n",
       "<style scoped>\n",
       "    .dataframe tbody tr th:only-of-type {\n",
       "        vertical-align: middle;\n",
       "    }\n",
       "\n",
       "    .dataframe tbody tr th {\n",
       "        vertical-align: top;\n",
       "    }\n",
       "\n",
       "    .dataframe thead th {\n",
       "        text-align: right;\n",
       "    }\n",
       "</style>\n",
       "<table border=\"1\" class=\"dataframe\">\n",
       "  <thead>\n",
       "    <tr style=\"text-align: right;\">\n",
       "      <th></th>\n",
       "      <th>quote</th>\n",
       "      <th>author</th>\n",
       "      <th>category</th>\n",
       "      <th>embeddings</th>\n",
       "    </tr>\n",
       "  </thead>\n",
       "  <tbody>\n",
       "    <tr>\n",
       "      <th>3</th>\n",
       "      <td>A friend is someone who knows all about you an...</td>\n",
       "      <td>Elbert Hubbard</td>\n",
       "      <td>friend, friendship, knowledge, love</td>\n",
       "      <td>[-0.8965908288955688, 0.8911721706390381, 0.07...</td>\n",
       "    </tr>\n",
       "    <tr>\n",
       "      <th>5</th>\n",
       "      <td>We accept the love we think we deserve.</td>\n",
       "      <td>Stephen Chbosky, The Perks of Being a Wallflower</td>\n",
       "      <td>inspirational, love</td>\n",
       "      <td>[-0.6066871285438538, 0.21085752546787262, -0....</td>\n",
       "    </tr>\n",
       "    <tr>\n",
       "      <th>12</th>\n",
       "      <td>Love all, trust a few, do wrong to none.</td>\n",
       "      <td>William Shakespeare, All's Well That Ends Well</td>\n",
       "      <td>do-wrong, love, trust, wrong</td>\n",
       "      <td>[-0.7522128820419312, 0.6477974653244019, -0.2...</td>\n",
       "    </tr>\n",
       "    <tr>\n",
       "      <th>18</th>\n",
       "      <td>You love me. Real or not real?\"I tell him, \"Real.</td>\n",
       "      <td>Suzanne Collins, Mockingjay</td>\n",
       "      <td>katniss, love, peeta, suzanne-collins, the-hun...</td>\n",
       "      <td>[-0.11977081745862961, 0.6745093464851379, 0.1...</td>\n",
       "    </tr>\n",
       "    <tr>\n",
       "      <th>23</th>\n",
       "      <td>Love is like the wind, you can't see it but yo...</td>\n",
       "      <td>Nicholas Sparks, A Walk to Remember</td>\n",
       "      <td>love, simile</td>\n",
       "      <td>[-0.581844687461853, 0.6239872574806213, 0.094...</td>\n",
       "    </tr>\n",
       "  </tbody>\n",
       "</table>\n",
       "</div>"
      ],
      "text/plain": [
       "                                                quote  \\\n",
       "3   A friend is someone who knows all about you an...   \n",
       "5             We accept the love we think we deserve.   \n",
       "12           Love all, trust a few, do wrong to none.   \n",
       "18  You love me. Real or not real?\"I tell him, \"Real.   \n",
       "23  Love is like the wind, you can't see it but yo...   \n",
       "\n",
       "                                              author  \\\n",
       "3                                     Elbert Hubbard   \n",
       "5   Stephen Chbosky, The Perks of Being a Wallflower   \n",
       "12    William Shakespeare, All's Well That Ends Well   \n",
       "18                       Suzanne Collins, Mockingjay   \n",
       "23               Nicholas Sparks, A Walk to Remember   \n",
       "\n",
       "                                             category  \\\n",
       "3                 friend, friendship, knowledge, love   \n",
       "5                                 inspirational, love   \n",
       "12                       do-wrong, love, trust, wrong   \n",
       "18  katniss, love, peeta, suzanne-collins, the-hun...   \n",
       "23                                       love, simile   \n",
       "\n",
       "                                           embeddings  \n",
       "3   [-0.8965908288955688, 0.8911721706390381, 0.07...  \n",
       "5   [-0.6066871285438538, 0.21085752546787262, -0....  \n",
       "12  [-0.7522128820419312, 0.6477974653244019, -0.2...  \n",
       "18  [-0.11977081745862961, 0.6745093464851379, 0.1...  \n",
       "23  [-0.581844687461853, 0.6239872574806213, 0.094...  "
      ]
     },
     "execution_count": 25,
     "metadata": {},
     "output_type": "execute_result"
    }
   ],
   "source": [
    "selected_df.head()"
   ]
  },
  {
   "cell_type": "code",
   "execution_count": 28,
   "id": "e4624960",
   "metadata": {},
   "outputs": [
    {
     "data": {
      "text/plain": [
       "768"
      ]
     },
     "execution_count": 28,
     "metadata": {},
     "output_type": "execute_result"
    }
   ],
   "source": [
    "len(selected_df['embeddings'].iloc[0])"
   ]
  },
  {
   "cell_type": "code",
   "execution_count": 29,
   "id": "d7a558d8",
   "metadata": {},
   "outputs": [],
   "source": [
    "selected_df.to_csv('selected_quotes_embeddings.csv', index=False)"
   ]
  },
  {
   "cell_type": "markdown",
   "id": "c310e1fb",
   "metadata": {},
   "source": [
    "## Перед запуском:\n",
    "Установка клиента Qdrant\n",
    "```\n",
    "pip install qdrant-client\n",
    "```\n",
    "Запуск локального сервера Qdrant через Docker\n",
    "```\n",
    "docker run -p 6333:6333 qdrant/qdrant\n",
    "```"
   ]
  },
  {
   "cell_type": "code",
   "execution_count": 8,
   "id": "8dc5b00cd6c644e4",
   "metadata": {
    "ExecuteTime": {
     "end_time": "2025-06-22T06:19:06.973881Z",
     "start_time": "2025-06-22T06:19:06.821540Z"
    }
   },
   "outputs": [],
   "source": [
    "# init client\n",
    "from qdrant_client import QdrantClient\n",
    "\n",
    "# При использовании локального инстанса Qdrant\n",
    "client = QdrantClient(url=\"http://localhost:6333\", prefer_grpc=False)"
   ]
  },
  {
   "cell_type": "code",
   "execution_count": 9,
   "id": "39234aea145e811f",
   "metadata": {
    "ExecuteTime": {
     "end_time": "2025-06-22T06:19:08.109105Z",
     "start_time": "2025-06-22T06:19:07.946622Z"
    }
   },
   "outputs": [
    {
     "data": {
      "text/plain": [
       "True"
      ]
     },
     "execution_count": 9,
     "metadata": {},
     "output_type": "execute_result"
    }
   ],
   "source": [
    "# Параметры коллекции\n",
    "collection_name = \"emoji_sync\"\n",
    "vector_size = 768  # размер эмбеддингов BERT\n",
    "\n",
    "# создадим новую коллекцию\n",
    "client.create_collection(\n",
    "    collection_name=collection_name,\n",
    "    vectors_config={\n",
    "        \"size\": vector_size,\n",
    "        \"distance\": \"Cosine\"\n",
    "    }\n",
    ")"
   ]
  },
  {
   "cell_type": "code",
   "execution_count": 10,
   "id": "131c4e2a8eff3268",
   "metadata": {
    "ExecuteTime": {
     "end_time": "2025-06-22T06:22:44.589724Z",
     "start_time": "2025-06-22T06:22:44.252660Z"
    }
   },
   "outputs": [
    {
     "data": {
      "text/plain": [
       "UpdateResult(operation_id=0, status=<UpdateStatus.COMPLETED: 'completed'>)"
      ]
     },
     "execution_count": 10,
     "metadata": {},
     "output_type": "execute_result"
    }
   ],
   "source": [
    "# добавление в дб\n",
    "from qdrant_client.http.models import PointStruct\n",
    "import numpy as np\n",
    "\n",
    "# Используем vector_size из параметров коллекции для генерации примера\n",
    "ids = [1, 2, 3]\n",
    "# TODO: заменить на реальные эмбеддинги\n",
    "vectors = [np.random.rand(vector_size).tolist() for _ in ids]\n",
    "metadatas = [\n",
    "    {\"text\": \"I love pizza 😊\"},\n",
    "    {\"text\": \"It's raining outside 😢\"},\n",
    "    {\"text\": \"Party time 🎉\"}\n",
    "]\n",
    "points = [\n",
    "    PointStruct(id=pid, vector=vec, payload=meta)\n",
    "    for pid, vec, meta in zip(ids, vectors, metadatas)\n",
    "]\n",
    "\n",
    "# Загрузим точки в Qdrant\n",
    "client.upsert(\n",
    "    collection_name=collection_name,\n",
    "    points=points\n",
    ")"
   ]
  },
  {
   "cell_type": "code",
   "execution_count": 35,
   "id": "85454c2aa8afb4fc",
   "metadata": {
    "ExecuteTime": {
     "end_time": "2025-06-22T06:33:34.618783Z",
     "start_time": "2025-06-22T06:33:34.554729Z"
    }
   },
   "outputs": [
    {
     "name": "stdout",
     "output_type": "stream",
     "text": [
      "ID: 2, Score: 0.7639, Text: It's raining outside 😢\n",
      "ID: 1, Score: 0.7601, Text: I love pizza 😊\n",
      "ID: 3, Score: 0.7595, Text: Party time 🎉\n"
     ]
    }
   ],
   "source": [
    "# Эмбеддинг запроса\n",
    "# TODO: получить эмбеддинг\n",
    "# query_embedding = embedder.encode(\"Happy vibes 😄🎶\").tolist()\n",
    "query_embedding = np.random.rand(vector_size).tolist()\n",
    "\n",
    "response = client.query_points(\n",
    "    collection_name=collection_name,\n",
    "    query=query_embedding,  # ранее query_vector\n",
    "    limit=5,\n",
    "    with_payload=True\n",
    ")\n",
    "\n",
    "for point in response.points:\n",
    "    print(f\"ID: {point.id}, Score: {point.score:.4f}, Text: {point.payload['text']}\")"
   ]
  }
 ],
 "metadata": {
  "kernelspec": {
   "display_name": "Python 3",
   "language": "python",
   "name": "python3"
  },
  "language_info": {
   "codemirror_mode": {
    "name": "ipython",
    "version": 3
   },
   "file_extension": ".py",
   "mimetype": "text/x-python",
   "name": "python",
   "nbconvert_exporter": "python",
   "pygments_lexer": "ipython3",
   "version": "3.12.5"
  }
 },
 "nbformat": 4,
 "nbformat_minor": 5
}
