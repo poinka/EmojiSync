{
 "cells": [
  {
   "cell_type": "markdown",
   "id": "5acaa427",
   "metadata": {},
   "source": [
    "# Database creation & Embedding generation\n",
    "\n",
    "Here, we will create vector database with emotionally rich text without emojis, so we can chow it to user when he/she inputs emoji text.\n",
    "\n",
    "Main steps:\n",
    "1. Choose dataset (~50000 objects)\n",
    "2. Choose model to create embeddings from dataset\n",
    "3. Choose vector database/storage\n",
    "4. Choose indexing algorithm"
   ]
  },
  {
   "cell_type": "markdown",
   "id": "c310e1fb",
   "metadata": {},
   "source": [
    "## Перед запуском:\n",
    "Установка клиента Qdrant\n",
    "```\n",
    "pip install qdrant-client\n",
    "```\n",
    "Запуск локального сервера Qdrant через Docker\n",
    "```\n",
    "docker run -p 6333:6333 qdrant/qdrant\n",
    "```"
   ]
  },
  {
   "metadata": {
    "ExecuteTime": {
     "end_time": "2025-06-22T06:19:06.973881Z",
     "start_time": "2025-06-22T06:19:06.821540Z"
    }
   },
   "cell_type": "code",
   "source": [
    "# init client\n",
    "from qdrant_client import QdrantClient\n",
    "\n",
    "# При использовании локального инстанса Qdrant\n",
    "client = QdrantClient(url=\"http://localhost:6333\", prefer_grpc=False)"
   ],
   "id": "8dc5b00cd6c644e4",
   "outputs": [],
   "execution_count": 8
  },
  {
   "metadata": {
    "ExecuteTime": {
     "end_time": "2025-06-22T06:19:08.109105Z",
     "start_time": "2025-06-22T06:19:07.946622Z"
    }
   },
   "cell_type": "code",
   "source": [
    "# Параметры коллекции\n",
    "collection_name = \"emoji_sync\"\n",
    "vector_size = 768  # размер эмбеддингов BERT\n",
    "\n",
    "# создадим новую коллекцию\n",
    "client.create_collection(\n",
    "    collection_name=collection_name,\n",
    "    vectors_config={\n",
    "        \"size\": vector_size,\n",
    "        \"distance\": \"Cosine\"\n",
    "    }\n",
    ")"
   ],
   "id": "39234aea145e811f",
   "outputs": [
    {
     "data": {
      "text/plain": [
       "True"
      ]
     },
     "execution_count": 9,
     "metadata": {},
     "output_type": "execute_result"
    }
   ],
   "execution_count": 9
  },
  {
   "metadata": {
    "ExecuteTime": {
     "end_time": "2025-06-22T06:22:44.589724Z",
     "start_time": "2025-06-22T06:22:44.252660Z"
    }
   },
   "cell_type": "code",
   "source": [
    "# добавление в дб\n",
    "from qdrant_client.http.models import PointStruct\n",
    "import numpy as np\n",
    "\n",
    "# Используем vector_size из параметров коллекции для генерации примера\n",
    "ids = [1, 2, 3]\n",
    "# TODO: заменить на реальные эмбеддинги\n",
    "vectors = [np.random.rand(vector_size).tolist() for _ in ids]\n",
    "metadatas = [\n",
    "    {\"text\": \"I love pizza 😊\"},\n",
    "    {\"text\": \"It's raining outside 😢\"},\n",
    "    {\"text\": \"Party time 🎉\"}\n",
    "]\n",
    "points = [\n",
    "    PointStruct(id=pid, vector=vec, payload=meta)\n",
    "    for pid, vec, meta in zip(ids, vectors, metadatas)\n",
    "]\n",
    "\n",
    "# Загрузим точки в Qdrant\n",
    "client.upsert(\n",
    "    collection_name=collection_name,\n",
    "    points=points\n",
    ")"
   ],
   "id": "131c4e2a8eff3268",
   "outputs": [
    {
     "data": {
      "text/plain": [
       "UpdateResult(operation_id=0, status=<UpdateStatus.COMPLETED: 'completed'>)"
      ]
     },
     "execution_count": 10,
     "metadata": {},
     "output_type": "execute_result"
    }
   ],
   "execution_count": 10
  },
  {
   "metadata": {
    "ExecuteTime": {
     "end_time": "2025-06-22T06:33:34.618783Z",
     "start_time": "2025-06-22T06:33:34.554729Z"
    }
   },
   "cell_type": "code",
   "source": [
    "# Эмбеддинг запроса\n",
    "# TODO: получить эмбеддинг\n",
    "# query_embedding = embedder.encode(\"Happy vibes 😄🎶\").tolist()\n",
    "query_embedding = np.random.rand(vector_size).tolist()\n",
    "\n",
    "response = client.query_points(\n",
    "    collection_name=collection_name,\n",
    "    query=query_embedding,  # ранее query_vector\n",
    "    limit=5,\n",
    "    with_payload=True\n",
    ")\n",
    "\n",
    "for point in response.points:\n",
    "    print(f\"ID: {point.id}, Score: {point.score:.4f}, Text: {point.payload['text']}\")"
   ],
   "id": "85454c2aa8afb4fc",
   "outputs": [
    {
     "name": "stdout",
     "output_type": "stream",
     "text": [
      "ID: 2, Score: 0.7639, Text: It's raining outside 😢\n",
      "ID: 1, Score: 0.7601, Text: I love pizza 😊\n",
      "ID: 3, Score: 0.7595, Text: Party time 🎉\n"
     ]
    }
   ],
   "execution_count": 35
  }
 ],
 "metadata": {
  "language_info": {
   "name": "python"
  },
  "kernelspec": {
   "name": "python3",
   "language": "python",
   "display_name": "Python 3 (ipykernel)"
  }
 },
 "nbformat": 4,
 "nbformat_minor": 5
}
